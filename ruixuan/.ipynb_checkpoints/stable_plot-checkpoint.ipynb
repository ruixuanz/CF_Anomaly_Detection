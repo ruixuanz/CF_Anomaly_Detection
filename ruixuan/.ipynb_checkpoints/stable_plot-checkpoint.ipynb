{
 "cells": [
  {
   "cell_type": "code",
   "execution_count": 1,
   "id": "loose-flood",
   "metadata": {},
   "outputs": [],
   "source": [
    "import numpy as np\n",
    "import math\n",
    "import matplotlib.pyplot as plt\n",
    "import seaborn as sns\n",
    "from tqdm import tqdm\n",
    "from sympy.solvers import solve\n",
    "from sympy import Symbol"
   ]
  },
  {
   "cell_type": "markdown",
   "id": "massive-course",
   "metadata": {},
   "source": [
    "## Parameter setting"
   ]
  },
  {
   "cell_type": "code",
   "execution_count": 23,
   "id": "pregnant-transcription",
   "metadata": {},
   "outputs": [
    {
     "data": {
      "text/plain": [
       "'\\n    tau_tilde: time delay\\n    lambda_1: the first real coefficient of expansion of lambda\\n    alpha: weight coefficients\\n    f_n^_: partial derivative of f function at the equilibrium point (v_e,s_e,0)\\n    \\n'"
      ]
     },
     "execution_count": 23,
     "metadata": {},
     "output_type": "execute_result"
    }
   ],
   "source": [
    "\"\"\"\n",
    "    tau_tilde: time delay\n",
    "    lambda_1: the first real coefficient of expansion of lambda\n",
    "    alpha: weight coefficients\n",
    "    f_n^_: partial derivative of f function at the equilibrium point (v_e,s_e,0)\n",
    "    \n",
    "\"\"\""
   ]
  },
  {
   "cell_type": "code",
   "execution_count": 2,
   "id": "egyptian-marsh",
   "metadata": {},
   "outputs": [],
   "source": [
    "class CIDM(object):\n",
    "    \n",
    "    \"\"\"\n",
    "        Parameter defined in \"Modeling and analyzing cyberattack \n",
    "        effects on connected automated vehicular platoons\"\n",
    "            \n",
    "    \"\"\"\n",
    "    \n",
    "    def __init__(self, N=15, ego_loc=6, M = 1):\n",
    "        self.v0 = 33.33\n",
    "        self.l = 5\n",
    "        self.T = 1.1\n",
    "        self.s0 = 2\n",
    "        self.a = 1\n",
    "        self.b = 2\n",
    "        self.N = N\n",
    "        self.M = M\n",
    "        self.v = Symbol('v')\n",
    "        self.R = 150\n",
    "        self.N = N\n",
    "        self.ego_loc = ego_loc\n",
    "        self.alpha = [0.7,0.2,0.1]\n",
    "        self.beta = [0.7,0.2,0.1]\n",
    "\n",
    "    def alpha_generation(self):\n",
    "        \n",
    "        Alpha = {}\n",
    "\n",
    "        Alpha[1] = np.zeros(N)\n",
    "        Alpha[1][self.ego_loc-6:self.ego_loc-1] = [0,0,0,0,1]\n",
    "        Alpha[2] = np.zeros(N)\n",
    "        Alpha[2][self.ego_loc-6:self.ego_loc-1] = [0,0,0,0.2,0.8]\n",
    "        Alpha[3] = np.zeros(N)\n",
    "        Alpha[3][self.ego_loc-6:self.ego_loc-1] = [0,0,0.1,0.2,0.7]\n",
    "        Alpha[4] = np.zeros(N)\n",
    "        Alpha[4][self.ego_loc-6:self.ego_loc-1] = [0,0.02,0.08,0.2,0.7]\n",
    "        Alpha[5] = np.zeros(N)\n",
    "        Alpha[5][self.ego_loc-6:self.ego_loc-1] = [0.004,0.016,0.08,0.2,0.7]\n",
    "        \n",
    "        self.Alpha = Alpha\n",
    "    \n",
    "    \n",
    "    def equilibrium_state_generation(self, profile_type, profile):\n",
    "        \n",
    "        result = []\n",
    "        if profile_type == 'velocity':\n",
    "            for data in tqdm(profile):\n",
    "                result.append(self.equilibrium_headway(data))\n",
    "                \n",
    "        else:\n",
    "            for data in profile:\n",
    "                result.append(self.equilibrium_velocity(data))\n",
    "                \n",
    "        return result\n",
    "                \n",
    "              \n",
    "    \"\"\"\n",
    "    Given the v*, calculate the s*\n",
    "\n",
    "    \"\"\"\n",
    "\n",
    "    def equilibrium_headway(self, v_eq):\n",
    "\n",
    "        s_eq = (self.s0+self.T*v_eq)*(1-(v_eq/self.v0)**4)**(-1/2)\n",
    "        \n",
    "        return s_eq\n",
    "    \n",
    "    \"\"\"\n",
    "    Given the s*, calculate the v*\n",
    "\n",
    "    \"\"\"\n",
    "\n",
    "    def equilibrium_velocity(self, s_eq):\n",
    "\n",
    "        v_eq = solve((self.s0+self.T*self.v)*(1-(self.v/self.v0)**4)**(-0.5)-s_eq, self.v)[0]\n",
    "        \n",
    "        return v_eq\n",
    "    \n",
    "     \n",
    "    \"\"\"\n",
    "    Given the steady state, calculate the variables\n",
    "\n",
    "    \"\"\"\n",
    "\n",
    "    def stable_condition_variable(self, v_eq, s_eq, A, B, C):\n",
    "\n",
    "        term = C/(2*np.sqrt(self.a*self.b))\n",
    "\n",
    "        f_nv = -4*self.a*(v_eq+A)**3/v_0**4 - 2*self.a*(s_0+self.T*(s_eq+A)+term*(v_eq+A))/(v_eq+B)**2*(self.T+term)\n",
    "        f_ns = self.alpha[0]*2*self.a*(s_0+self.T*(v_eq+A)+term*(v_eq+A))**2/(s_eq+B)**3\n",
    "        f_ndv = -self.beta[0]*np.sqrt(self.a/self.b)*(v_eq+A)*(s_0+self.T*(v_eq+A)+term*(v_eq+A))/(s_eq+B)**2\n",
    "        lambda_1 = f_ns/f_nv\n",
    "\n",
    "        return f_ns, f_nv, f_ndv, lambda_1\n",
    "    \n",
    "    \n",
    "    \n",
    "    \"\"\"\n",
    "    Calculate the linearly stable condition\n",
    "\n",
    "    \"\"\"\n",
    "\n",
    "    def characteristic_equation(self, f_ns, f_nv, f_ndv, lambda_1, tau_tilde):\n",
    "        \n",
    "        result = -lambda_1**2/f_nv-lambda_1**2*tau_tilde + lambda_1*f_ndv/f_nv+f_ns/f_nv*\\\n",
    "                (1.4+lambda_1*tau_tilde-0.5)\n",
    "            \n",
    "        return result \n",
    "    \n",
    "    \n",
    "    def stability_equation(self, f_ns, f_nv, f_ndv, tau_tilde):\n",
    "        \n",
    "        result = (f_nv/f_ns)**2*(1.4-0.5)+f_nv*f_ndv/f_ns**2*\\\n",
    "                 1.4-1/f_ns+f_nv/f_ns*tau_tilde\n",
    "        \n",
    "        return result\n",
    "    \n",
    "    \n",
    "    def degenerated_stability_equation(self, f_ns, f_nv, f_ndv):\n",
    "        \n",
    "        result = -f_ns/f_nv+f_ndv+0.5*f_nv\n",
    "        \n",
    "        return result\n",
    "    \n",
    "    \n",
    "    \n",
    "    def self_calculated_equation(self, f_ns, f_nv, f_ndv, lambda_1, tau_tilde):\n",
    "        \n",
    "        result = -lambda_1**2/f_nv + lambda_1*f_ndv/f_nv + lambda_1*(0.4+lambda_1*tau_tilde + 0.5)\n",
    "        \n",
    "        return result"
   ]
  },
  {
   "cell_type": "code",
   "execution_count": 3,
   "id": "broadband-tablet",
   "metadata": {},
   "outputs": [],
   "source": [
    "\"\"\"\n",
    "    Given the different number of cooperative cars, the alpha vector changes accordingly.\n",
    "    The attack is applied to the 5th car. The ego vehicle can take the last vehicle to the 6th vehicle\n",
    "    For simplicity, we pick the 10th vehicle as the ego vehicle\n",
    "\n",
    "\"\"\"\n",
    "\n",
    "M = 1\n",
    "Test = CIDM()\n",
    "# Test.alpha_generation()\n",
    "# steady_velocity = Test.equilibrium_state_generation('headway', np.linspace(Test.s0,60,201))"
   ]
  },
  {
   "cell_type": "code",
   "execution_count": 71,
   "id": "prescribed-floating",
   "metadata": {},
   "outputs": [
    {
     "data": {
      "text/plain": [
       "[0.0,\n",
       " 0.263636359561691,\n",
       " 0.527272653821887,\n",
       " 0.790908677268303,\n",
       " 1.05454401514346,\n",
       " 1.31817798153663,\n",
       " 1.58180955749548,\n",
       " 1.84543732917381,\n",
       " 2.10905942603943,\n",
       " 2.37267345917424,\n",
       " 2.63627645970864,\n",
       " 2.89986481744338,\n",
       " 3.16343421972400,\n",
       " 3.42697959064667,\n",
       " 3.69049503068847,\n",
       " 3.95397375687125,\n",
       " 4.21740804358446,\n",
       " 4.48078916421015,\n",
       " 4.74410733371190,\n",
       " 5.00735165236837,\n",
       " 5.27051005085202,\n",
       " 5.53356923687366,\n",
       " 5.79651464363373,\n",
       " 6.05933038034147,\n",
       " 6.32199918508297,\n",
       " 6.58450238033860,\n",
       " 6.84681983146846,\n",
       " 7.10892990850173,\n",
       " 7.37080945158125,\n",
       " 7.63243374042776,\n",
       " 7.89377646819947,\n",
       " 8.15480972013016,\n",
       " 8.41550395733364,\n",
       " 8.67582800616310,\n",
       " 8.93574905350995,\n",
       " 9.19523264841864,\n",
       " 9.45424271037998,\n",
       " 9.71274154464663,\n",
       " 9.97068986488945,\n",
       " 10.2280468234823,\n",
       " 10.4847700496660,\n",
       " 10.7408156957977,\n",
       " 10.9961384918444,\n",
       " 11.2506918082204,\n",
       " 11.5044277270109,\n",
       " 11.7572971215534,\n",
       " 12.0092497442803,\n",
       " 12.2602343226493,\n",
       " 12.5101986629098,\n",
       " 12.7590897613743,\n",
       " 13.0068539227804,\n",
       " 13.2534368852509,\n",
       " 13.4987839512785,\n",
       " 13.7428401240842,\n",
       " 13.9855502486301,\n",
       " 14.2268591564983,\n",
       " 14.4667118137887,\n",
       " 14.7050534711414,\n",
       " 14.9418298149430,\n",
       " 15.1769871187502,\n",
       " 15.4104723939428,\n",
       " 15.6422335386105,\n",
       " 15.8722194836836,\n",
       " 16.1003803353345,\n",
       " 16.3266675127069,\n",
       " 16.5510338800698,\n",
       " 16.7734338725464,\n",
       " 16.9938236146314,\n",
       " 17.2121610307811,\n",
       " 17.4284059474415,\n",
       " 17.6425201859664,\n",
       " 17.8544676459690,\n",
       " 18.0642143787456,\n",
       " 18.2717286505087,\n",
       " 18.4769809952635,\n",
       " 18.6799442572575,\n",
       " 18.8805936230310,\n",
       " 19.0789066431800,\n",
       " 19.2748632440348,\n",
       " 19.4684457295316,\n",
       " 19.6596387736280,\n",
       " 19.8484294036788,\n",
       " 20.0348069752408,\n",
       " 20.2187631388281,\n",
       " 20.4002917991723,\n",
       " 20.5793890675779,\n",
       " 20.7560532079817,\n",
       " 20.9302845773392,\n",
       " 21.1020855609697,\n",
       " 21.2714605034880,\n",
       " 21.4384156359445,\n",
       " 21.6029589997841,\n",
       " 21.7651003682118,\n",
       " 21.9248511655353,\n",
       " 22.0822243850241,\n",
       " 22.2372345057974,\n",
       " 22.3898974092208,\n",
       " 22.5402302952574,\n",
       " 22.6882515991850,\n",
       " 22.8339809090553,\n",
       " 22.9774388842343,\n",
       " 23.1186471753306,\n",
       " 23.2576283457805,\n",
       " 23.3944057953263,\n",
       " 23.5290036855932,\n",
       " 23.6614468679383,\n",
       " 23.7917608137130,\n",
       " 23.9199715470602,\n",
       " 24.0461055803319,\n",
       " 24.1701898521994,\n",
       " 24.2922516684977,\n",
       " 24.4123186458326,\n",
       " 24.5304186579564,\n",
       " 24.6465797849045,\n",
       " 24.7608302648706,\n",
       " 24.8731984487840,\n",
       " 24.9837127575440,\n",
       " 25.0924016418544,\n",
       " 25.1992935445948,\n",
       " 25.3044168656579,\n",
       " 25.4077999291763,\n",
       " 25.5094709530585,\n",
       " 25.6094580207496,\n",
       " 25.7077890551304,\n",
       " 25.8044917944666,\n",
       " 25.8995937703184,\n",
       " 25.9931222873219,\n",
       " 26.0851044047518,\n",
       " 26.1755669197780,\n",
       " 26.2645363523284,\n",
       " 26.3520389314718,\n",
       " 26.4381005832378,\n",
       " 26.5227469197918,\n",
       " 26.6060032298850,\n",
       " 26.6878944705039,\n",
       " 26.7684452596444,\n",
       " 26.8476798701385,\n",
       " 26.9256222244669,\n",
       " 27.0022958904891,\n",
       " 27.0777240780312,\n",
       " 27.1519296362682,\n",
       " 27.2249350518463,\n",
       " 27.2967624476894,\n",
       " 27.3674335824385,\n",
       " 27.4369698504753,\n",
       " 27.5053922824834,\n",
       " 27.5727215465040,\n",
       " 27.6389779494434,\n",
       " 27.7041814389959,\n",
       " 27.7683516059423,\n",
       " 27.8315076867932,\n",
       " 27.8936685667412,\n",
       " 27.9548527828953,\n",
       " 28.0150785277661,\n",
       " 28.0743636529774,\n",
       " 28.1327256731789,\n",
       " 28.1901817701365,\n",
       " 28.2467487969792,\n",
       " 28.3024432825831,\n",
       " 28.3572814360722,\n",
       " 28.4112791514214,\n",
       " 28.4644520121430,\n",
       " 28.5168152960445,\n",
       " 28.5683839800418,\n",
       " 28.6191727450167,\n",
       " 28.6691959807066,\n",
       " 28.7184677906158,\n",
       " 28.7670019969383,\n",
       " 28.8148121454839,\n",
       " 28.8619115105980,\n",
       " 28.9083131000697,\n",
       " 28.9540296600188,\n",
       " 28.9990736797580,\n",
       " 29.0434573966226,\n",
       " 29.0871928007638,\n",
       " 29.1302916399015,\n",
       " 29.1727654240300,\n",
       " 29.2146254300768,\n",
       " 29.2558827065068,\n",
       " 29.2965480778737,\n",
       " 29.3366321493112,\n",
       " 29.3761453109663,\n",
       " 29.4150977423693,\n",
       " 29.4534994167410,\n",
       " 29.4913601052345,\n",
       " 29.5286893811114,\n",
       " 29.5654966238502,\n",
       " 29.6017910231878,\n",
       " 29.6375815830919,\n",
       " 29.6728771256647,\n",
       " 29.7076862949784,\n",
       " 29.7420175608406,\n",
       " 29.7758792224911,\n",
       " 29.8092794122294,\n",
       " 29.8422260989744,\n",
       " 29.8747270917546,\n",
       " 29.9067900431309,\n",
       " 29.9384224525522,\n",
       " 29.9696316696437,\n",
       " 30.0004248974294,\n",
       " 30.0308091954885]"
      ]
     },
     "execution_count": 71,
     "metadata": {},
     "output_type": "execute_result"
    }
   ],
   "source": [
    "steady_velocity"
   ]
  },
  {
   "cell_type": "code",
   "execution_count": 60,
   "id": "returning-vienna",
   "metadata": {},
   "outputs": [
    {
     "name": "stderr",
     "output_type": "stream",
     "text": [
      "201it [00:35,  5.63it/s]\n"
     ]
    }
   ],
   "source": [
    "\"\"\"\n",
    "    The equilibrium velocity varies from 10m/s to 45m/s\n",
    "    Time delay varies from 0s to 5s\n",
    "\n",
    "\"\"\"\n",
    "\n",
    "headway = np.linspace(Test.s0,60,201)\n",
    "y_tau = np.linspace(0,3,201)\n",
    "result = np.zeros([201,201])\n",
    "\n",
    "for idx_x, data in tqdm(enumerate(headway)):\n",
    "    for idx_y, tau in enumerate(y_tau):\n",
    "        f_ns, f_nv, f_ndv, lambda_1 = Test.stable_condition_variable(steady_velocity[idx_x], data)\n",
    "        result[idx_x,idx_y] = Test.self_calculated_equation(f_ns, f_nv, f_ndv, lambda_1, tau)      "
   ]
  },
  {
   "cell_type": "code",
   "execution_count": 61,
   "id": "bound-exhaust",
   "metadata": {},
   "outputs": [
    {
     "data": {
      "text/plain": [
       "Text(84.5, 0.5, 'Headway /m')"
      ]
     },
     "execution_count": 61,
     "metadata": {},
     "output_type": "execute_result"
    },
    {
     "data": {
      "image/png": "[encoded data removed]",
      "text/plain": [
       "<Figure size 864x576 with 2 Axes>"
      ]
     },
     "metadata": {},
     "output_type": "display_data"
    }
   ],
   "source": [
    "sns.set(rc = {'figure.figsize':(12,8)})\n",
    "sns.heatmap(np.flip(result,axis=0)<=0)\n",
    "plt.xticks([0, 34, 67, 101, 134,168,201], [0,0.5,1,1.5,2,2.5,3],rotation = 0,fontsize= 15)\n",
    "plt.yticks([0, 34, 67, 101, 134,168,201], [60,50,40,30,20,10,0],rotation = 0,fontsize= 15)\n",
    "plt.grid()\n",
    "plt.xlabel(\"Time delay /s\", fontsize=15)\n",
    "plt.ylabel(\"Headway /m\", fontsize=15)"
   ]
  },
  {
   "cell_type": "code",
   "execution_count": 123,
   "id": "geological-photograph",
   "metadata": {},
   "outputs": [],
   "source": [
    "s_eq = 10\n",
    "# v_eq = solve((Test.s0+Test.T*Test.v)*(1-(Test.v/Test.v0)**4)**(-0.5)-s_eq, Test.v)[0]\n",
    "v_eq = solve((2+1*Test.v)*(1-(Test.v/24)**4)**(-0.5)-s_eq, Test.v)[0]"
   ]
  },
  {
   "cell_type": "code",
   "execution_count": 112,
   "id": "colored-renewal",
   "metadata": {},
   "outputs": [
    {
     "data": {
      "text/latex": [
       "$\\displaystyle 0.494618402910831$"
      ],
      "text/plain": [
       "0.494618402910831"
      ]
     },
     "execution_count": 112,
     "metadata": {},
     "output_type": "execute_result"
    }
   ],
   "source": [
    "f_ns, f_nv, f_ndv, lambda_1 = Test.stable_condition_variable(v_eq, s_eq)\n",
    "rr = Test.stability_equation(f_ns, f_nv, f_ndv, 0.5)   \n",
    "rr"
   ]
  },
  {
   "cell_type": "code",
   "execution_count": 83,
   "id": "right-scholarship",
   "metadata": {},
   "outputs": [
    {
     "data": {
      "text/plain": [
       "24"
      ]
     },
     "execution_count": 83,
     "metadata": {},
     "output_type": "execute_result"
    }
   ],
   "source": [
    "Test.characteristic_equation(f_ns, f_nv, f_ndv, lambda_1, 0.5) "
   ]
  },
  {
   "cell_type": "code",
   "execution_count": 124,
   "id": "earned-birth",
   "metadata": {},
   "outputs": [
    {
     "data": {
      "text/latex": [
       "$\\displaystyle 7.9399245510847$"
      ],
      "text/plain": [
       "7.93992455108470"
      ]
     },
     "execution_count": 124,
     "metadata": {},
     "output_type": "execute_result"
    }
   ],
   "source": [
    "v_eq"
   ]
  },
  {
   "cell_type": "code",
   "execution_count": 450,
   "id": "dominant-encounter",
   "metadata": {},
   "outputs": [
    {
     "name": "stderr",
     "output_type": "stream",
     "text": [
      "201it [00:00, 446.66it/s]\n"
     ]
    }
   ],
   "source": [
    "# headway = np.linspace(Test.s0,150,201)\n",
    "rlt = []\n",
    "\n",
    "for idx, data in tqdm(enumerate(headway)):\n",
    "\n",
    "    f_ns, f_nv, f_ndv, lambda_1 = Test.stable_condition_variable(steady_velocity[idx], data)\n",
    "    rlt.append(Test.self_calculated_equation(f_ns, f_nv, f_ndv, lambda_1, 0))"
   ]
  },
  {
   "cell_type": "code",
   "execution_count": 451,
   "id": "random-brazil",
   "metadata": {},
   "outputs": [
    {
     "data": {
      "text/plain": [
       "[<matplotlib.lines.Line2D at 0x1e6f12dc848>]"
      ]
     },
     "execution_count": 451,
     "metadata": {},
     "output_type": "execute_result"
    },
    {
     "data": {
      "image/png": "[encoded data removed]",
      "text/plain": [
       "<Figure size 864x576 with 1 Axes>"
      ]
     },
     "metadata": {},
     "output_type": "display_data"
    }
   ],
   "source": [
    "plt.plot(headway, rlt)"
   ]
  },
  {
   "cell_type": "code",
   "execution_count": 414,
   "id": "silver-consistency",
   "metadata": {},
   "outputs": [
    {
     "data": {
      "text/plain": [
       "[<matplotlib.lines.Line2D at 0x1e6ecd1af88>]"
      ]
     },
     "execution_count": 414,
     "metadata": {},
     "output_type": "execute_result"
    },
    {
     "data": {
      "image/png": "[encoded data removed]",
      "text/plain": [
       "<Figure size 432x288 with 1 Axes>"
      ]
     },
     "metadata": {
      "needs_background": "light"
     },
     "output_type": "display_data"
    }
   ],
   "source": [
    "plt.plot(headway, result[:,0])"
   ]
  },
  {
   "cell_type": "code",
   "execution_count": 402,
   "id": "interstate-pregnancy",
   "metadata": {},
   "outputs": [
    {
     "data": {
      "text/plain": [
       "array([[-4.98928852e+01, -4.98928852e+01, -4.98928852e+01, ...,\n",
       "        -4.98928852e+01, -4.98928852e+01, -4.98928852e+01],\n",
       "       [-4.09301546e+01, -4.09301546e+01, -4.09301546e+01, ...,\n",
       "        -4.09301546e+01, -4.09301546e+01, -4.09301546e+01],\n",
       "       [-3.43471904e+01, -3.43471904e+01, -3.43471904e+01, ...,\n",
       "        -3.43471904e+01, -3.43471904e+01, -3.43471904e+01],\n",
       "       ...,\n",
       "       [-1.73994879e-02, -1.73994879e-02, -1.73994879e-02, ...,\n",
       "        -1.73994879e-02, -1.73994879e-02, -1.73994879e-02],\n",
       "       [-1.71311399e-02, -1.71311399e-02, -1.71311399e-02, ...,\n",
       "        -1.71311399e-02, -1.71311399e-02, -1.71311399e-02],\n",
       "       [-1.68682166e-02, -1.68682166e-02, -1.68682166e-02, ...,\n",
       "        -1.68682166e-02, -1.68682166e-02, -1.68682166e-02]])"
      ]
     },
     "execution_count": 402,
     "metadata": {},
     "output_type": "execute_result"
    }
   ],
   "source": [
    "result"
   ]
  },
  {
   "cell_type": "code",
   "execution_count": 289,
   "id": "recognized-liver",
   "metadata": {},
   "outputs": [
    {
     "data": {
      "text/plain": [
       "(0.0, 12.6696809268637)"
      ]
     },
     "execution_count": 289,
     "metadata": {},
     "output_type": "execute_result"
    },
    {
     "data": {
      "image/png": "[encoded data removed]",
      "text/plain": [
       "<Figure size 432x288 with 1 Axes>"
      ]
     },
     "metadata": {
      "needs_background": "light"
     },
     "output_type": "display_data"
    }
   ],
   "source": [
    "plt.plot(headway,[-i for i in rlt])\n",
    "\n",
    "plt.ylim(ymin = 0)"
   ]
  },
  {
   "cell_type": "code",
   "execution_count": 259,
   "id": "floating-composition",
   "metadata": {},
   "outputs": [
    {
     "name": "stderr",
     "output_type": "stream",
     "text": [
      "100%|██████████████████████████████████████████████████████████████████████████| 101/101 [01:16<00:00,  1.32it/s]\n"
     ]
    }
   ],
   "source": [
    "headway = np.linspace(4,80,101)\n",
    "rlt = []\n",
    "\n",
    "for data in tqdm(headway):\n",
    "    \n",
    "    veq = Test.equilibrium_velocity(data)\n",
    "    f_ns, f_nv, f_ndv, lambda_1 = Test.stable_condition_variable(veq, data)\n",
    "    rlt.append(Test.degenerated_stability_equation(f_ns, f_nv, f_ndv))"
   ]
  },
  {
   "cell_type": "code",
   "execution_count": 260,
   "id": "vocal-stress",
   "metadata": {},
   "outputs": [
    {
     "data": {
      "text/plain": [
       "[<matplotlib.lines.Line2D at 0x1e6e87dc408>]"
      ]
     },
     "execution_count": 260,
     "metadata": {},
     "output_type": "execute_result"
    },
    {
     "data": {
      "image/png": "[encoded data removed]",
      "text/plain": [
       "<Figure size 432x288 with 1 Axes>"
      ]
     },
     "metadata": {
      "needs_background": "light"
     },
     "output_type": "display_data"
    }
   ],
   "source": [
    "plt.plot(headway,rlt)"
   ]
  },
  {
   "cell_type": "code",
   "execution_count": null,
   "id": "median-button",
   "metadata": {},
   "outputs": [],
   "source": [
    "def stable_condition_variable(self, v_eq, s_eq, A, B, C):\n",
    "    \n",
    "    term = C/(2*np.sqrt(self.a*self.b))\n",
    "    \n",
    "    f_nv = -4*self.a*(v_eq+A)**3/v_0**4 - 2*self.a*(s_0+self.T*(s_eq+A)+term*(v_eq+A))/(v_eq+B)**2*(self.T+term)\n",
    "    f_ns = self.alpha[0]*2*self.a*(s_0+self.T*(v_eq+A)+term*(v_eq+A))**2/(s_eq+B)**3\n",
    "    f_ndv = -self.beta[0]*np.sqrt(self.a/self.b)*(v_eq+A)*(s_0+self.T*(v_eq+A)+term*(v_eq+A))/(s_eq+B)**2\n",
    "    lambda_1 = f_ns/f_nv\n",
    "\n",
    "    return f_ns, f_nv, f_ndv, lambda_1"
   ]
  },
  {
   "cell_type": "code",
   "execution_count": null,
   "id": "funded-halloween",
   "metadata": {},
   "outputs": [],
   "source": [
    "f_nv = -4*self.a*(v_eq+A)**3/v_0**4 - 2*self.a*(s_0+self.T*(s_eq+A)+term*(v_eq+A))/(v_eq+B)**2*(self.T+term)\n",
    "f_ns = alpha[0]*2*self.a*(s_0+self.T*(v_eq+A)+term*(v_eq+A))**2/(s_eq+B)**3\n",
    "f_ndv = -beta[0]*np.sqrt(self.a/self.b)*(v_eq+A)*(s_0+self.T*(v_eq+A)+term*(v_eq+A))/(s_eq+B)**2"
   ]
  }
 ],
 "metadata": {
  "kernelspec": {
   "display_name": "Python 3",
   "language": "python",
   "name": "python3"
  },
  "language_info": {
   "codemirror_mode": {
    "name": "ipython",
    "version": 3
   },
   "file_extension": ".py",
   "mimetype": "text/x-python",
   "name": "python",
   "nbconvert_exporter": "python",
   "pygments_lexer": "ipython3",
   "version": "3.7.4"
  }
 },
 "nbformat": 4,
 "nbformat_minor": 5
}
