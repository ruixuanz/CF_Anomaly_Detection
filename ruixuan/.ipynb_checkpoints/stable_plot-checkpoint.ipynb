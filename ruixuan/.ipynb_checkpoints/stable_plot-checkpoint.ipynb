{
 "cells": [
  {
   "cell_type": "code",
   "execution_count": 195,
   "id": "cloudy-circuit",
   "metadata": {},
   "outputs": [],
   "source": [
    "import numpy as np\n",
    "import math\n",
    "import matplotlib.pyplot as plt\n",
    "import seaborn as sns\n",
    "from tqdm import tqdm\n",
    "from sympy.solvers import solve\n",
    "from sympy import Symbol"
   ]
  },
  {
   "cell_type": "markdown",
   "id": "indonesian-sculpture",
   "metadata": {},
   "source": [
    "## Parameter setting"
   ]
  },
  {
   "cell_type": "code",
   "execution_count": 2,
   "id": "inside-simulation",
   "metadata": {},
   "outputs": [
    {
     "data": {
      "text/plain": [
       "'\\n    tau_tilde: time delay\\n    lambda_1: the first real coefficient of expansion of lambda\\n    alpha: weight coefficient\\n    f_n^_: partial derivative of f function at the equilibrium point (v_e,s_e,0)\\n    \\n'"
      ]
     },
     "execution_count": 2,
     "metadata": {},
     "output_type": "execute_result"
    }
   ],
   "source": [
    "\"\"\"\n",
    "    tau_tilde: time delay\n",
    "    lambda_1: the first real coefficient of expansion of lambda\n",
    "    alpha: weight coefficients\n",
    "    f_n^_: partial derivative of f function at the equilibrium point (v_e,s_e,0)\n",
    "    \n",
    "\"\"\""
   ]
  },
  {
   "cell_type": "code",
   "execution_count": 284,
   "id": "initial-bench",
   "metadata": {},
   "outputs": [],
   "source": [
    "class CIDM(object):\n",
    "    \n",
    "    \"\"\"\n",
    "        Parameter defined in \"Modeling and analyzing cyberattack \n",
    "        effects on connected automated vehicular platoons\"\n",
    "            \n",
    "    \"\"\"\n",
    "    \n",
    "    def __init__(self, alpha, N=15):\n",
    "        self.v0 = 33\n",
    "        self.l = 5\n",
    "        self.T = 1.5\n",
    "        self.s0 = 4\n",
    "        self.a = 1.2\n",
    "        self.b = 3\n",
    "        self.N = N\n",
    "        self.v = Symbol('v')\n",
    "        self.R = 150\n",
    "        self.platoon = np.array(range(N))+1\n",
    "        self.alpha = alpha\n",
    "    \n",
    "    def equilibrium_state_gen(self, )\n",
    "    \n",
    "    \n",
    "    \"\"\"\n",
    "    Given the v*, calculate the s*\n",
    "\n",
    "    \"\"\"\n",
    "\n",
    "    def equilibrium_headway(self, v_eq):\n",
    "\n",
    "        s_eq = (self.s0+self.T*v_eq)*(1-(v_eq/self.v0)**4)**(-1/2)\n",
    "        \n",
    "        return s_eq\n",
    "    \n",
    "    \"\"\"\n",
    "    Given the s*, calculate the v*\n",
    "\n",
    "    \"\"\"\n",
    "\n",
    "    def equilibrium_velocity(self, s_eq):\n",
    "\n",
    "        v_eq = solve((self.s0+self.T*self.v)*(1-(self.v/self.v0)**4)**(-0.5)-s_eq, self.v)[0]\n",
    "        \n",
    "        return v_eq\n",
    "    \n",
    "     \n",
    "    \"\"\"\n",
    "    Given the steady state, calculate the variables\n",
    "\n",
    "    \"\"\"\n",
    "\n",
    "    def stable_condition_variable(self, v_eq, s_eq):\n",
    "        \n",
    "        f_ns = 2*self.a/s_eq*((self.s0+self.T*v_eq)/s_eq)**2\n",
    "        f_nv = -2*self.a*(2/self.v0*(v_eq/self.v0)**3+self.T*(self.s0+self.T*v_eq)/s_eq**2)\n",
    "        f_ndv = -v_eq/s_eq*np.sqrt(self.a/self.b)*(self.s0+self.T*v_eq)/s_eq\n",
    "        lambda_1 = f_ns/f_nv\n",
    "        \n",
    "        return f_ns, f_nv, f_ndv, lambda_1\n",
    "    \n",
    "    \n",
    "    \n",
    "    \"\"\"\n",
    "    Calculate the linearly stable condition\n",
    "\n",
    "    \"\"\"\n",
    "\n",
    "    def characteristic_equation(self, f_ns, f_nv, f_ndv, lambda_1, tau_tilde):\n",
    "        \n",
    "        result = -lambda_1**2/f_nv-lambda_1**2*tau_tilde + lambda_1*f_ndv/f_nv+f_ns/f_nv*\\\n",
    "                (self.alpha.dot(self.platoon)+lambda_1*self.alpha.dot(np.ones(self.N)*tau_tilde)-0.5)\n",
    "            \n",
    "        return result <= 0 \n",
    "    \n",
    "    \n",
    "    def stability_equation(self, f_ns, f_nv, f_ndv, tau_tilde):\n",
    "        \n",
    "        result = (f_nv/f_ns)**2*(1.3-0.5)+f_nv*f_ndv/f_ns**2*\\\n",
    "                 1.3-1/f_ns+f_nv/f_ns*tau_tilde\n",
    "        \n",
    "        return result\n",
    "    \n",
    "    \n",
    "    def degenerated_stability_equation(self, f_ns, f_nv, f_ndv):\n",
    "        \n",
    "        result = -f_ns/f_nv+f_ndv+0.5*f_nv\n",
    "        \n",
    "        return result"
   ]
  },
  {
   "cell_type": "code",
   "execution_count": 285,
   "id": "proud-cause",
   "metadata": {},
   "outputs": [],
   "source": [
    "\"\"\"\n",
    "    Given the different number of cooperative cars, the alpha vector changes accordingly.\n",
    "    The attack is applied to the 5th car. The ego vehicle can take the last vehicle to the 6th vehicle\n",
    "    For simplicity, we pick the 10th vehicle as the ego vehicle\n",
    "\n",
    "\"\"\"\n",
    "N = 15\n",
    "Alpha = {}\n",
    "\n",
    "Alpha[1] = np.zeros(N)\n",
    "Alpha[1][8] = 1\n",
    "Alpha[2] = np.zeros(N)\n",
    "Alpha[2][7:9] = [0.2,0.8]\n",
    "Alpha[3] = np.zeros(N)\n",
    "Alpha[3][6:9] = [0.1,0.2,0.7]\n",
    "Alpha[4] = np.zeros(N)\n",
    "Alpha[4][5:9] = [0.02,0.08,0.2,0.7]\n",
    "Alpha[5] = np.zeros(N)\n",
    "Alpha[5][4:9] = [0.004,0.016,0.08,0.2,0.7]\n",
    "\n",
    "\n",
    "Test = CIDM(Alpha[3])"
   ]
  },
  {
   "cell_type": "code",
   "execution_count": 212,
   "id": "resident-stand",
   "metadata": {},
   "outputs": [],
   "source": [
    "\"\"\"\n",
    "    The equilibrium velocity varies from 10m/s to 45m/s\n",
    "    Time delay varies from 0s to 5s\n",
    "\n",
    "\"\"\"\n",
    "\n",
    "x_veq = np.linspace(0,32,501)\n",
    "y_tau = np.linspace(0,3,501)\n",
    "result = np.zeros([501,501])\n",
    "\n",
    "for idx_x, veq in enumerate(x_veq[::-1]):\n",
    "    for idx_y, tau in enumerate(y_tau[::-1]):\n",
    "        seq = Test.equilibrium_headway(veq)\n",
    "        f_ns, f_nv, f_ndv, lambda_1 = Test.stable_condition_variable(veq, seq)\n",
    "        result[idx_x,idx_y] = Test.characteristic_equation(f_ns, f_nv, f_ndv, lambda_1, tau)\n",
    "        "
   ]
  },
  {
   "cell_type": "code",
   "execution_count": 213,
   "id": "national-doctrine",
   "metadata": {},
   "outputs": [
    {
     "data": {
      "text/plain": [
       "<AxesSubplot:>"
      ]
     },
     "execution_count": 213,
     "metadata": {},
     "output_type": "execute_result"
    },
    {
     "data": {
      "image/png": "[encoded data removed]",
      "text/plain": [
       "<Figure size 432x288 with 2 Axes>"
      ]
     },
     "metadata": {
      "needs_background": "light"
     },
     "output_type": "display_data"
    }
   ],
   "source": [
    "sns.heatmap(result)"
   ]
  },
  {
   "cell_type": "code",
   "execution_count": 214,
   "id": "personal-vertex",
   "metadata": {},
   "outputs": [
    {
     "data": {
      "text/plain": [
       "8.6"
      ]
     },
     "execution_count": 214,
     "metadata": {},
     "output_type": "execute_result"
    }
   ],
   "source": [
    "Test.alpha.dot(Test.platoon)"
   ]
  },
  {
   "cell_type": "code",
   "execution_count": 183,
   "id": "convertible-parcel",
   "metadata": {},
   "outputs": [
    {
     "data": {
      "text/plain": [
       "[<matplotlib.lines.Line2D at 0x1e6e40e4a88>]"
      ]
     },
     "execution_count": 183,
     "metadata": {},
     "output_type": "execute_result"
    },
    {
     "data": {
      "image/png": "[encoded data removed]",
      "text/plain": [
       "<Figure size 432x288 with 1 Axes>"
      ]
     },
     "metadata": {
      "needs_background": "light"
     },
     "output_type": "display_data"
    }
   ],
   "source": [
    "rr = []\n",
    "\n",
    "\n",
    "for v in x_veq:\n",
    "    rr.append(Test.equilibrium_headway(v))\n",
    "    \n",
    "plt.plot(rr,x_veq)\n",
    "    "
   ]
  },
  {
   "cell_type": "code",
   "execution_count": 288,
   "id": "commercial-smoke",
   "metadata": {},
   "outputs": [
    {
     "name": "stderr",
     "output_type": "stream",
     "text": [
      "  0%|                                                                                    | 0/101 [00:00<?, ?it/s]D:\\Anaconda\\lib\\site-packages\\ipykernel_launcher.py:52: RuntimeWarning: divide by zero encountered in double_scalars\n",
      "100%|██████████████████████████████████████████████████████████████████████████| 101/101 [01:14<00:00,  1.36it/s]\n"
     ]
    }
   ],
   "source": [
    "headway = np.linspace(0,80,101)\n",
    "rlt = []\n",
    "\n",
    "for data in tqdm(headway):\n",
    "    \n",
    "    veq = Test.equilibrium_velocity(data)\n",
    "    f_ns, f_nv, f_ndv, lambda_1 = Test.stable_condition_variable(veq, data)\n",
    "    rlt.append(Test.stability_equation(f_ns, f_nv, f_ndv, 0.5))"
   ]
  },
  {
   "cell_type": "code",
   "execution_count": 280,
   "id": "determined-silly",
   "metadata": {},
   "outputs": [
    {
     "data": {
      "text/plain": [
       "(0.0, 10.488473598246284)"
      ]
     },
     "execution_count": 280,
     "metadata": {},
     "output_type": "execute_result"
    },
    {
     "data": {
      "image/png": "[encoded data removed]",
      "text/plain": [
       "<Figure size 432x288 with 1 Axes>"
      ]
     },
     "metadata": {
      "needs_background": "light"
     },
     "output_type": "display_data"
    }
   ],
   "source": [
    "plt.plot(headway,[-i for i in rlt])\n",
    "\n",
    "plt.ylim(ymin = 0)"
   ]
  },
  {
   "cell_type": "code",
   "execution_count": 287,
   "id": "ahead-garlic",
   "metadata": {},
   "outputs": [
    {
     "data": {
      "text/plain": [
       "(0.0, 12.143534695723043)"
      ]
     },
     "execution_count": 287,
     "metadata": {},
     "output_type": "execute_result"
    },
    {
     "data": {
      "image/png": "[encoded data removed]",
      "text/plain": [
       "<Figure size 432x288 with 1 Axes>"
      ]
     },
     "metadata": {
      "needs_background": "light"
     },
     "output_type": "display_data"
    }
   ],
   "source": [
    "plt.plot(headway,[-i for i in rlt])\n",
    "\n",
    "plt.ylim(ymin = 0)"
   ]
  },
  {
   "cell_type": "code",
   "execution_count": 289,
   "id": "tender-crossing",
   "metadata": {},
   "outputs": [
    {
     "data": {
      "text/plain": [
       "(0.0, 12.6696809268637)"
      ]
     },
     "execution_count": 289,
     "metadata": {},
     "output_type": "execute_result"
    },
    {
     "data": {
      "image/png": "[encoded data removed]",
      "text/plain": [
       "<Figure size 432x288 with 1 Axes>"
      ]
     },
     "metadata": {
      "needs_background": "light"
     },
     "output_type": "display_data"
    }
   ],
   "source": [
    "plt.plot(headway,[-i for i in rlt])\n",
    "\n",
    "plt.ylim(ymin = 0)"
   ]
  },
  {
   "cell_type": "code",
   "execution_count": 259,
   "id": "organized-stake",
   "metadata": {},
   "outputs": [
    {
     "name": "stderr",
     "output_type": "stream",
     "text": [
      "100%|██████████████████████████████████████████████████████████████████████████| 101/101 [01:16<00:00,  1.32it/s]\n"
     ]
    }
   ],
   "source": [
    "headway = np.linspace(4,80,101)\n",
    "rlt = []\n",
    "\n",
    "for data in tqdm(headway):\n",
    "    \n",
    "    veq = Test.equilibrium_velocity(data)\n",
    "    f_ns, f_nv, f_ndv, lambda_1 = Test.stable_condition_variable(veq, data)\n",
    "    rlt.append(Test.degenerated_stability_equation(f_ns, f_nv, f_ndv))"
   ]
  },
  {
   "cell_type": "code",
   "execution_count": 260,
   "id": "sapphire-veteran",
   "metadata": {},
   "outputs": [
    {
     "data": {
      "text/plain": [
       "[<matplotlib.lines.Line2D at 0x1e6e87dc408>]"
      ]
     },
     "execution_count": 260,
     "metadata": {},
     "output_type": "execute_result"
    },
    {
     "data": {
      "image/png": "[encoded data removed]",
      "text/plain": [
       "<Figure size 432x288 with 1 Axes>"
      ]
     },
     "metadata": {
      "needs_background": "light"
     },
     "output_type": "display_data"
    }
   ],
   "source": [
    "plt.plot(headway,rlt)"
   ]
  },
  {
   "cell_type": "code",
   "execution_count": 229,
   "id": "worldwide-discretion",
   "metadata": {},
   "outputs": [
    {
     "data": {
      "text/latex": [
       "$\\displaystyle -0.14046153982642$"
      ],
      "text/plain": [
       "-0.140461539826420"
      ]
     },
     "execution_count": 229,
     "metadata": {},
     "output_type": "execute_result"
    }
   ],
   "source": [
    "f_ndv"
   ]
  },
  {
   "cell_type": "code",
   "execution_count": 233,
   "id": "otherwise-consumption",
   "metadata": {},
   "outputs": [
    {
     "data": {
      "text/plain": [
       "-0.139939896248425"
      ]
     },
     "execution_count": 233,
     "metadata": {},
     "output_type": "execute_result"
    }
   ],
   "source": [
    "Test.degenerated_stability_equation(0.0108980916786099, -0.147114583240636, -0.14046153982642)"
   ]
  },
  {
   "cell_type": "code",
   "execution_count": 225,
   "id": "headed-doctor",
   "metadata": {},
   "outputs": [
    {
     "data": {
      "text/plain": [
       "7.0"
      ]
     },
     "execution_count": 225,
     "metadata": {},
     "output_type": "execute_result"
    }
   ],
   "source": [
    "(2/1)**2*(1-0.5)+2*3/1**2*\\\n",
    "                 1-1/1+2/1*0"
   ]
  },
  {
   "cell_type": "code",
   "execution_count": 235,
   "id": "answering-nerve",
   "metadata": {},
   "outputs": [
    {
     "data": {
      "text/plain": [
       "173.33902896599758"
      ]
     },
     "execution_count": 235,
     "metadata": {},
     "output_type": "execute_result"
    }
   ],
   "source": [
    "Test.stability_equation(0.0108980916786099, -0.147114583240636, -0.14046153982642, 0)"
   ]
  },
  {
   "cell_type": "code",
   "execution_count": 236,
   "id": "pending-terminology",
   "metadata": {},
   "outputs": [
    {
     "data": {
      "text/plain": [
       "0.125"
      ]
     },
     "execution_count": 236,
     "metadata": {},
     "output_type": "execute_result"
    }
   ],
   "source": [
    "(1/2)**2*(1-0.5)"
   ]
  },
  {
   "cell_type": "code",
   "execution_count": 295,
   "id": "coupled-scope",
   "metadata": {},
   "outputs": [],
   "source": [
    "veq = Test.equilibrium_velocity(4)\n",
    "f_ns, f_nv, f_ndv, lambda_1 = Test.stable_condition_variable(veq, 4)"
   ]
  },
  {
   "cell_type": "code",
   "execution_count": 296,
   "id": "signal-vulnerability",
   "metadata": {},
   "outputs": [
    {
     "data": {
      "text/latex": [
       "$\\displaystyle 0.216666666666667$"
      ],
      "text/plain": [
       "0.216666666666667"
      ]
     },
     "execution_count": 296,
     "metadata": {},
     "output_type": "execute_result"
    }
   ],
   "source": [
    "Test.degenerated_stability_equation(f_ns, f_nv, f_ndv)"
   ]
  },
  {
   "cell_type": "code",
   "execution_count": 297,
   "id": "transparent-salvation",
   "metadata": {},
   "outputs": [
    {
     "data": {
      "text/latex": [
       "$\\displaystyle 0.0$"
      ],
      "text/plain": [
       "0.0"
      ]
     },
     "execution_count": 297,
     "metadata": {},
     "output_type": "execute_result"
    }
   ],
   "source": [
    "veq"
   ]
  },
  {
   "cell_type": "code",
   "execution_count": 298,
   "id": "stopped-bathroom",
   "metadata": {},
   "outputs": [
    {
     "name": "stdout",
     "output_type": "stream",
     "text": [
      "0.600000000000000 -0.900000000000000 0\n"
     ]
    }
   ],
   "source": [
    "print(f_ns, f_nv, f_ndv)"
   ]
  },
  {
   "cell_type": "code",
   "execution_count": 294,
   "id": "actual-custom",
   "metadata": {},
   "outputs": [
    {
     "data": {
      "text/plain": [
       "(0.04921822867734374,\n",
       " -0.12165767604446591,\n",
       " -0.3076825270513856,\n",
       " -0.4045632818052062)"
      ]
     },
     "execution_count": 294,
     "metadata": {},
     "output_type": "execute_result"
    }
   ],
   "source": [
    "Test.stable_condition_variable(21.4855,40)"
   ]
  },
  {
   "cell_type": "code",
   "execution_count": 253,
   "id": "latin-plasma",
   "metadata": {},
   "outputs": [
    {
     "data": {
      "text/plain": [
       "8"
      ]
     },
     "execution_count": 253,
     "metadata": {},
     "output_type": "execute_result"
    }
   ],
   "source": [
    "-2*1.2*(2/33*(10.6/33)**3+1.5*(self.v0+self.T*v_eq)/s_eq**2)"
   ]
  },
  {
   "cell_type": "code",
   "execution_count": 274,
   "id": "elementary-private",
   "metadata": {},
   "outputs": [
    {
     "data": {
      "text/latex": [
       "$\\displaystyle -1.81049078969451$"
      ],
      "text/plain": [
       "-1.81049078969451"
      ]
     },
     "execution_count": 274,
     "metadata": {},
     "output_type": "execute_result"
    }
   ],
   "source": [
    "Test.stability_equation(f_ns, f_nv, f_ndv, 0)"
   ]
  },
  {
   "cell_type": "code",
   "execution_count": null,
   "id": "mature-transcription",
   "metadata": {},
   "outputs": [],
   "source": []
  }
 ],
 "metadata": {
  "kernelspec": {
   "display_name": "Python 3",
   "language": "python",
   "name": "python3"
  },
  "language_info": {
   "codemirror_mode": {
    "name": "ipython",
    "version": 3
   },
   "file_extension": ".py",
   "mimetype": "text/x-python",
   "name": "python",
   "nbconvert_exporter": "python",
   "pygments_lexer": "ipython3",
   "version": "3.7.4"
  }
 },
 "nbformat": 4,
 "nbformat_minor": 5
}
