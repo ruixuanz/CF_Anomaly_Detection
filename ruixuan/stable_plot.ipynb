{
 "cells": [
  {
   "cell_type": "code",
   "execution_count": 436,
   "id": "loose-flood",
   "metadata": {},
   "outputs": [],
   "source": [
    "import numpy as np\n",
    "import math\n",
    "import matplotlib.pyplot as plt\n",
    "import seaborn as sns\n",
    "from tqdm import tqdm\n",
    "from sympy.solvers import solve\n",
    "from sympy import Symbol"
   ]
  },
  {
   "cell_type": "markdown",
   "id": "massive-course",
   "metadata": {},
   "source": [
    "## Parameter setting"
   ]
  },
  {
   "cell_type": "code",
   "execution_count": 437,
   "id": "pregnant-transcription",
   "metadata": {},
   "outputs": [
    {
     "data": {
      "text/plain": [
       "'\\n    tau_tilde: time delay\\n    lambda_1: the first real coefficient of expansion of lambda\\n    alpha: weight coefficients\\n    f_n^_: partial derivative of f function at the equilibrium point (v_e,s_e,0)\\n    \\n'"
      ]
     },
     "execution_count": 437,
     "metadata": {},
     "output_type": "execute_result"
    }
   ],
   "source": [
    "\"\"\"\n",
    "    tau_tilde: time delay\n",
    "    lambda_1: the first real coefficient of expansion of lambda\n",
    "    alpha: weight coefficients\n",
    "    f_n^_: partial derivative of f function at the equilibrium point (v_e,s_e,0)\n",
    "    \n",
    "\"\"\""
   ]
  },
  {
   "cell_type": "code",
   "execution_count": 533,
   "id": "egyptian-marsh",
   "metadata": {},
   "outputs": [],
   "source": [
    "class CIDM(object):\n",
    "    \n",
    "    \"\"\"\n",
    "        Parameter defined in \"Modeling and analyzing cyberattack \n",
    "        effects on connected automated vehicular platoons\"\n",
    "            \n",
    "    \"\"\"\n",
    "    \n",
    "    def __init__(self, N=15, ego_loc=6, M = 1):\n",
    "        self.v0 = 33.33\n",
    "        self.l = 5\n",
    "        self.T = 1.1\n",
    "        self.s0 = 2\n",
    "        self.a = 1\n",
    "        self.b = 2\n",
    "        self.N = N\n",
    "        self.M = M\n",
    "        self.v = Symbol('v')\n",
    "        self.R = 150\n",
    "        self.N = N\n",
    "        self.ego_loc = ego_loc\n",
    "        self.Alpha = None\n",
    "\n",
    "    def alpha_generation(self):\n",
    "        \n",
    "        Alpha = {}\n",
    "\n",
    "        Alpha[1] = np.zeros(N)\n",
    "        Alpha[1][self.ego_loc-6:self.ego_loc-1] = [0,0,0,0,1]\n",
    "        Alpha[2] = np.zeros(N)\n",
    "        Alpha[2][self.ego_loc-6:self.ego_loc-1] = [0,0,0,0.2,0.8]\n",
    "        Alpha[3] = np.zeros(N)\n",
    "        Alpha[3][self.ego_loc-6:self.ego_loc-1] = [0,0,0.1,0.2,0.7]\n",
    "        Alpha[4] = np.zeros(N)\n",
    "        Alpha[4][self.ego_loc-6:self.ego_loc-1] = [0,0.02,0.08,0.2,0.7]\n",
    "        Alpha[5] = np.zeros(N)\n",
    "        Alpha[5][self.ego_loc-6:self.ego_loc-1] = [0.004,0.016,0.08,0.2,0.7]\n",
    "        \n",
    "        self.Alpha = Alpha\n",
    "    \n",
    "    \n",
    "    def equilibrium_state_generation(self, profile_type, profile):\n",
    "        \n",
    "        result = []\n",
    "        if profile_type == 'velocity':\n",
    "            for data in profile:\n",
    "                result.append(self.equilibrium_headway(data))\n",
    "                \n",
    "        else:\n",
    "            for data in profile:\n",
    "                result.append(self.equilibrium_velocity(data))\n",
    "                \n",
    "        return result\n",
    "                \n",
    "              \n",
    "    \"\"\"\n",
    "    Given the v*, calculate the s*\n",
    "\n",
    "    \"\"\"\n",
    "\n",
    "    def equilibrium_headway(self, v_eq):\n",
    "\n",
    "        s_eq = (self.s0+self.T*v_eq)*(1-(v_eq/self.v0)**4)**(-1/2)\n",
    "        \n",
    "        return s_eq\n",
    "    \n",
    "    \"\"\"\n",
    "    Given the s*, calculate the v*\n",
    "\n",
    "    \"\"\"\n",
    "\n",
    "    def equilibrium_velocity(self, s_eq):\n",
    "\n",
    "        v_eq = solve((self.s0+self.T*self.v)*(1-(self.v/self.v0)**4)**(-0.5)-s_eq, self.v)[0]\n",
    "        \n",
    "        return v_eq\n",
    "    \n",
    "     \n",
    "    \"\"\"\n",
    "    Given the steady state, calculate the variables\n",
    "\n",
    "    \"\"\"\n",
    "\n",
    "    def stable_condition_variable(self, v_eq, s_eq):\n",
    "        \n",
    "        f_ns = 2*self.a/s_eq*((self.s0+self.T*v_eq)/s_eq)**2\n",
    "        f_nv = -2*self.a*(2/self.v0*(v_eq/self.v0)**3+self.T*(self.s0+self.T*v_eq)/s_eq**2)\n",
    "        f_ndv = -v_eq/s_eq*np.sqrt(self.a/self.b)*(self.s0+self.T*v_eq)/s_eq\n",
    "        lambda_1 = f_ns/f_nv\n",
    "        \n",
    "        return f_ns, f_nv, f_ndv, lambda_1\n",
    "    \n",
    "    \n",
    "    \n",
    "    \"\"\"\n",
    "    Calculate the linearly stable condition\n",
    "\n",
    "    \"\"\"\n",
    "\n",
    "    def characteristic_equation(self, f_ns, f_nv, f_ndv, lambda_1, tau_tilde):\n",
    "        \n",
    "        result = -lambda_1**2/f_nv-lambda_1**2*tau_tilde + lambda_1*f_ndv/f_nv+f_ns/f_nv*\\\n",
    "                (self.alpha.dot(self.platoon)+lambda_1*self.alpha.dot(np.ones(self.N)*tau_tilde)-0.5)\n",
    "            \n",
    "        return result \n",
    "    \n",
    "    \n",
    "    def stability_equation(self, f_ns, f_nv, f_ndv, tau_tilde):\n",
    "        \n",
    "        result = (f_nv/f_ns)**2*(1.3-0.5)+f_nv*f_ndv/f_ns**2*\\\n",
    "                 1.3-1/f_ns+f_nv/f_ns*tau_tilde\n",
    "        \n",
    "        return result\n",
    "    \n",
    "    \n",
    "    def degenerated_stability_equation(self, f_ns, f_nv, f_ndv):\n",
    "        \n",
    "        result = -f_ns/f_nv+f_ndv+0.5*f_nv\n",
    "        \n",
    "        return result\n",
    "    \n",
    "    \n",
    "    \n",
    "    def self_calculated_equation(self, f_ns, f_nv, f_ndv, lambda_1, tau_tilde):\n",
    "        \n",
    "        result = -lambda_1**2/f_nv + lambda_1*f_ndv/f_nv + lambda_1*(0.424+lambda_1*tau_tilde + 0.5)\n",
    "        \n",
    "        return result"
   ]
  },
  {
   "cell_type": "code",
   "execution_count": 534,
   "id": "broadband-tablet",
   "metadata": {},
   "outputs": [],
   "source": [
    "\"\"\"\n",
    "    Given the different number of cooperative cars, the alpha vector changes accordingly.\n",
    "    The attack is applied to the 5th car. The ego vehicle can take the last vehicle to the 6th vehicle\n",
    "    For simplicity, we pick the 10th vehicle as the ego vehicle\n",
    "\n",
    "\"\"\"\n",
    "\n",
    "M = 1\n",
    "Test = CIDM(M = 1)\n",
    "Test.alpha_generation()\n",
    "#steady_velocity = Test.equilibrium_state_generation('headway', np.linspace(Test.s0,80,201))"
   ]
  },
  {
   "cell_type": "code",
   "execution_count": 535,
   "id": "returning-vienna",
   "metadata": {},
   "outputs": [
    {
     "name": "stderr",
     "output_type": "stream",
     "text": [
      "201it [00:41,  4.86it/s]\n"
     ]
    }
   ],
   "source": [
    "\"\"\"\n",
    "    The equilibrium velocity varies from 10m/s to 45m/s\n",
    "    Time delay varies from 0s to 5s\n",
    "\n",
    "\"\"\"\n",
    "\n",
    "headway = np.linspace(Test.s0,60,201)\n",
    "y_tau = np.linspace(0,3,201)\n",
    "result = np.zeros([201,201])\n",
    "\n",
    "for idx_x, data in tqdm(enumerate(headway)):\n",
    "    for idx_y, tau in enumerate(y_tau):\n",
    "        f_ns, f_nv, f_ndv, lambda_1 = Test.stable_condition_variable(steady_velocity[idx_x], data)\n",
    "        result[idx_x,idx_y] = Test.self_calculated_equation(f_ns, f_nv, f_ndv, lambda_1, tau)      "
   ]
  },
  {
   "cell_type": "code",
   "execution_count": 536,
   "id": "bound-exhaust",
   "metadata": {},
   "outputs": [
    {
     "data": {
      "text/plain": [
       "Text(84.5, 0.5, 'Headway /m')"
      ]
     },
     "execution_count": 536,
     "metadata": {},
     "output_type": "execute_result"
    },
    {
     "data": {
      "image/png": "[encoded data removed]",
      "text/plain": [
       "<Figure size 864x576 with 2 Axes>"
      ]
     },
     "metadata": {},
     "output_type": "display_data"
    }
   ],
   "source": [
    "sns.set(rc = {'figure.figsize':(12,8)})\n",
    "sns.heatmap(np.flip(result,axis=0)<=0)\n",
    "plt.xticks([0, 34, 67, 101, 134,168,201], [0,0.5,1,1.5,2,2.5,3],rotation = 0,fontsize= 15)\n",
    "plt.yticks([0, 34, 67, 101, 134,168,201], [60,50,40,30,20,10,0],rotation = 0,fontsize= 15)\n",
    "plt.xlabel(\"Time delay /s\", fontsize=15)\n",
    "plt.ylabel(\"Headway /m\", fontsize=15)"
   ]
  },
  {
   "cell_type": "code",
   "execution_count": 371,
   "id": "geological-photograph",
   "metadata": {},
   "outputs": [
    {
     "data": {
      "text/plain": [
       "<AxesSubplot:>"
      ]
     },
     "execution_count": 371,
     "metadata": {},
     "output_type": "execute_result"
    },
    {
     "data": {
      "image/png": "[encoded data removed]",
      "text/plain": [
       "<Figure size 432x288 with 2 Axes>"
      ]
     },
     "metadata": {
      "needs_background": "light"
     },
     "output_type": "display_data"
    }
   ],
   "source": [
    "sns.heatmap(result.T)"
   ]
  },
  {
   "cell_type": "code",
   "execution_count": 421,
   "id": "colored-renewal",
   "metadata": {},
   "outputs": [
    {
     "data": {
      "text/plain": [
       "array([150.  , 149.27, 148.54, 147.81, 147.08, 146.35, 145.62, 144.89,\n",
       "       144.16, 143.43, 142.7 , 141.97, 141.24, 140.51, 139.78, 139.05,\n",
       "       138.32, 137.59, 136.86, 136.13, 135.4 , 134.67, 133.94, 133.21,\n",
       "       132.48, 131.75, 131.02, 130.29, 129.56, 128.83, 128.1 , 127.37,\n",
       "       126.64, 125.91, 125.18, 124.45, 123.72, 122.99, 122.26, 121.53,\n",
       "       120.8 , 120.07, 119.34, 118.61, 117.88, 117.15, 116.42, 115.69,\n",
       "       114.96, 114.23, 113.5 , 112.77, 112.04, 111.31, 110.58, 109.85,\n",
       "       109.12, 108.39, 107.66, 106.93, 106.2 , 105.47, 104.74, 104.01,\n",
       "       103.28, 102.55, 101.82, 101.09, 100.36,  99.63,  98.9 ,  98.17,\n",
       "        97.44,  96.71,  95.98,  95.25,  94.52,  93.79,  93.06,  92.33,\n",
       "        91.6 ,  90.87,  90.14,  89.41,  88.68,  87.95,  87.22,  86.49,\n",
       "        85.76,  85.03,  84.3 ,  83.57,  82.84,  82.11,  81.38,  80.65,\n",
       "        79.92,  79.19,  78.46,  77.73,  77.  ,  76.27,  75.54,  74.81,\n",
       "        74.08,  73.35,  72.62,  71.89,  71.16,  70.43,  69.7 ,  68.97,\n",
       "        68.24,  67.51,  66.78,  66.05,  65.32,  64.59,  63.86,  63.13,\n",
       "        62.4 ,  61.67,  60.94,  60.21,  59.48,  58.75,  58.02,  57.29,\n",
       "        56.56,  55.83,  55.1 ,  54.37,  53.64,  52.91,  52.18,  51.45,\n",
       "        50.72,  49.99,  49.26,  48.53,  47.8 ,  47.07,  46.34,  45.61,\n",
       "        44.88,  44.15,  43.42,  42.69,  41.96,  41.23,  40.5 ,  39.77,\n",
       "        39.04,  38.31,  37.58,  36.85,  36.12,  35.39,  34.66,  33.93,\n",
       "        33.2 ,  32.47,  31.74,  31.01,  30.28,  29.55,  28.82,  28.09,\n",
       "        27.36,  26.63,  25.9 ,  25.17,  24.44,  23.71,  22.98,  22.25,\n",
       "        21.52,  20.79,  20.06,  19.33,  18.6 ,  17.87,  17.14,  16.41,\n",
       "        15.68,  14.95,  14.22,  13.49,  12.76,  12.03,  11.3 ,  10.57,\n",
       "         9.84,   9.11,   8.38,   7.65,   6.92,   6.19,   5.46,   4.73,\n",
       "         4.  ])"
      ]
     },
     "execution_count": 421,
     "metadata": {},
     "output_type": "execute_result"
    }
   ],
   "source": [
    "headway[::-1]"
   ]
  },
  {
   "cell_type": "code",
   "execution_count": 329,
   "id": "earned-birth",
   "metadata": {},
   "outputs": [
    {
     "data": {
      "text/plain": [
       "(0.1083, -0.1750474871429041, -0.03004163777159961, -0.6186892583701402)"
      ]
     },
     "execution_count": 329,
     "metadata": {},
     "output_type": "execute_result"
    }
   ],
   "source": [
    "Test.stable_condition_variable(10,20)"
   ]
  },
  {
   "cell_type": "code",
   "execution_count": 450,
   "id": "dominant-encounter",
   "metadata": {},
   "outputs": [
    {
     "name": "stderr",
     "output_type": "stream",
     "text": [
      "201it [00:00, 446.66it/s]\n"
     ]
    }
   ],
   "source": [
    "# headway = np.linspace(Test.s0,150,201)\n",
    "rlt = []\n",
    "\n",
    "for idx, data in tqdm(enumerate(headway)):\n",
    "\n",
    "    f_ns, f_nv, f_ndv, lambda_1 = Test.stable_condition_variable(steady_velocity[idx], data)\n",
    "    rlt.append(Test.self_calculated_equation(f_ns, f_nv, f_ndv, lambda_1, 0))"
   ]
  },
  {
   "cell_type": "code",
   "execution_count": 451,
   "id": "random-brazil",
   "metadata": {},
   "outputs": [
    {
     "data": {
      "text/plain": [
       "[<matplotlib.lines.Line2D at 0x1e6f12dc848>]"
      ]
     },
     "execution_count": 451,
     "metadata": {},
     "output_type": "execute_result"
    },
    {
     "data": {
      "image/png": "[encoded data removed]",
      "text/plain": [
       "<Figure size 864x576 with 1 Axes>"
      ]
     },
     "metadata": {},
     "output_type": "display_data"
    }
   ],
   "source": [
    "plt.plot(headway, rlt)"
   ]
  },
  {
   "cell_type": "code",
   "execution_count": 414,
   "id": "silver-consistency",
   "metadata": {},
   "outputs": [
    {
     "data": {
      "text/plain": [
       "[<matplotlib.lines.Line2D at 0x1e6ecd1af88>]"
      ]
     },
     "execution_count": 414,
     "metadata": {},
     "output_type": "execute_result"
    },
    {
     "data": {
      "image/png": "[encoded data removed]",
      "text/plain": [
       "<Figure size 432x288 with 1 Axes>"
      ]
     },
     "metadata": {
      "needs_background": "light"
     },
     "output_type": "display_data"
    }
   ],
   "source": [
    "plt.plot(headway, result[:,0])"
   ]
  },
  {
   "cell_type": "code",
   "execution_count": 402,
   "id": "interstate-pregnancy",
   "metadata": {},
   "outputs": [
    {
     "data": {
      "text/plain": [
       "array([[-4.98928852e+01, -4.98928852e+01, -4.98928852e+01, ...,\n",
       "        -4.98928852e+01, -4.98928852e+01, -4.98928852e+01],\n",
       "       [-4.09301546e+01, -4.09301546e+01, -4.09301546e+01, ...,\n",
       "        -4.09301546e+01, -4.09301546e+01, -4.09301546e+01],\n",
       "       [-3.43471904e+01, -3.43471904e+01, -3.43471904e+01, ...,\n",
       "        -3.43471904e+01, -3.43471904e+01, -3.43471904e+01],\n",
       "       ...,\n",
       "       [-1.73994879e-02, -1.73994879e-02, -1.73994879e-02, ...,\n",
       "        -1.73994879e-02, -1.73994879e-02, -1.73994879e-02],\n",
       "       [-1.71311399e-02, -1.71311399e-02, -1.71311399e-02, ...,\n",
       "        -1.71311399e-02, -1.71311399e-02, -1.71311399e-02],\n",
       "       [-1.68682166e-02, -1.68682166e-02, -1.68682166e-02, ...,\n",
       "        -1.68682166e-02, -1.68682166e-02, -1.68682166e-02]])"
      ]
     },
     "execution_count": 402,
     "metadata": {},
     "output_type": "execute_result"
    }
   ],
   "source": [
    "result"
   ]
  },
  {
   "cell_type": "code",
   "execution_count": 289,
   "id": "recognized-liver",
   "metadata": {},
   "outputs": [
    {
     "data": {
      "text/plain": [
       "(0.0, 12.6696809268637)"
      ]
     },
     "execution_count": 289,
     "metadata": {},
     "output_type": "execute_result"
    },
    {
     "data": {
      "image/png": "[encoded data removed]",
      "text/plain": [
       "<Figure size 432x288 with 1 Axes>"
      ]
     },
     "metadata": {
      "needs_background": "light"
     },
     "output_type": "display_data"
    }
   ],
   "source": [
    "plt.plot(headway,[-i for i in rlt])\n",
    "\n",
    "plt.ylim(ymin = 0)"
   ]
  },
  {
   "cell_type": "code",
   "execution_count": 259,
   "id": "floating-composition",
   "metadata": {},
   "outputs": [
    {
     "name": "stderr",
     "output_type": "stream",
     "text": [
      "100%|██████████████████████████████████████████████████████████████████████████| 101/101 [01:16<00:00,  1.32it/s]\n"
     ]
    }
   ],
   "source": [
    "headway = np.linspace(4,80,101)\n",
    "rlt = []\n",
    "\n",
    "for data in tqdm(headway):\n",
    "    \n",
    "    veq = Test.equilibrium_velocity(data)\n",
    "    f_ns, f_nv, f_ndv, lambda_1 = Test.stable_condition_variable(veq, data)\n",
    "    rlt.append(Test.degenerated_stability_equation(f_ns, f_nv, f_ndv))"
   ]
  },
  {
   "cell_type": "code",
   "execution_count": 260,
   "id": "vocal-stress",
   "metadata": {},
   "outputs": [
    {
     "data": {
      "text/plain": [
       "[<matplotlib.lines.Line2D at 0x1e6e87dc408>]"
      ]
     },
     "execution_count": 260,
     "metadata": {},
     "output_type": "execute_result"
    },
    {
     "data": {
      "image/png": "[encoded data removed]",
      "text/plain": [
       "<Figure size 432x288 with 1 Axes>"
      ]
     },
     "metadata": {
      "needs_background": "light"
     },
     "output_type": "display_data"
    }
   ],
   "source": [
    "plt.plot(headway,rlt)"
   ]
  },
  {
   "cell_type": "code",
   "execution_count": 229,
   "id": "accepted-proceeding",
   "metadata": {},
   "outputs": [
    {
     "data": {
      "text/latex": [
       "$\\displaystyle -0.14046153982642$"
      ],
      "text/plain": [
       "-0.140461539826420"
      ]
     },
     "execution_count": 229,
     "metadata": {},
     "output_type": "execute_result"
    }
   ],
   "source": [
    "f_ndv"
   ]
  },
  {
   "cell_type": "code",
   "execution_count": 233,
   "id": "medical-iceland",
   "metadata": {},
   "outputs": [
    {
     "data": {
      "text/plain": [
       "-0.139939896248425"
      ]
     },
     "execution_count": 233,
     "metadata": {},
     "output_type": "execute_result"
    }
   ],
   "source": [
    "Test.degenerated_stability_equation(0.0108980916786099, -0.147114583240636, -0.14046153982642)"
   ]
  },
  {
   "cell_type": "code",
   "execution_count": 225,
   "id": "current-measure",
   "metadata": {},
   "outputs": [
    {
     "data": {
      "text/plain": [
       "7.0"
      ]
     },
     "execution_count": 225,
     "metadata": {},
     "output_type": "execute_result"
    }
   ],
   "source": [
    "(2/1)**2*(1-0.5)+2*3/1**2*\\\n",
    "                 1-1/1+2/1*0"
   ]
  },
  {
   "cell_type": "code",
   "execution_count": 235,
   "id": "based-tuning",
   "metadata": {},
   "outputs": [
    {
     "data": {
      "text/plain": [
       "173.33902896599758"
      ]
     },
     "execution_count": 235,
     "metadata": {},
     "output_type": "execute_result"
    }
   ],
   "source": [
    "Test.stability_equation(0.0108980916786099, -0.147114583240636, -0.14046153982642, 0)"
   ]
  },
  {
   "cell_type": "code",
   "execution_count": 236,
   "id": "miniature-effect",
   "metadata": {},
   "outputs": [
    {
     "data": {
      "text/plain": [
       "0.125"
      ]
     },
     "execution_count": 236,
     "metadata": {},
     "output_type": "execute_result"
    }
   ],
   "source": [
    "(1/2)**2*(1-0.5)"
   ]
  },
  {
   "cell_type": "code",
   "execution_count": 295,
   "id": "embedded-nicholas",
   "metadata": {},
   "outputs": [],
   "source": [
    "veq = Test.equilibrium_velocity(4)\n",
    "f_ns, f_nv, f_ndv, lambda_1 = Test.stable_condition_variable(veq, 4)"
   ]
  },
  {
   "cell_type": "code",
   "execution_count": 296,
   "id": "popular-contamination",
   "metadata": {},
   "outputs": [
    {
     "data": {
      "text/latex": [
       "$\\displaystyle 0.216666666666667$"
      ],
      "text/plain": [
       "0.216666666666667"
      ]
     },
     "execution_count": 296,
     "metadata": {},
     "output_type": "execute_result"
    }
   ],
   "source": [
    "Test.degenerated_stability_equation(f_ns, f_nv, f_ndv)"
   ]
  },
  {
   "cell_type": "code",
   "execution_count": 297,
   "id": "public-reporter",
   "metadata": {},
   "outputs": [
    {
     "data": {
      "text/latex": [
       "$\\displaystyle 0.0$"
      ],
      "text/plain": [
       "0.0"
      ]
     },
     "execution_count": 297,
     "metadata": {},
     "output_type": "execute_result"
    }
   ],
   "source": [
    "veq"
   ]
  },
  {
   "cell_type": "code",
   "execution_count": 298,
   "id": "level-roommate",
   "metadata": {},
   "outputs": [
    {
     "name": "stdout",
     "output_type": "stream",
     "text": [
      "0.600000000000000 -0.900000000000000 0\n"
     ]
    }
   ],
   "source": [
    "print(f_ns, f_nv, f_ndv)"
   ]
  },
  {
   "cell_type": "code",
   "execution_count": 294,
   "id": "stable-diary",
   "metadata": {},
   "outputs": [
    {
     "data": {
      "text/plain": [
       "(0.04921822867734374,\n",
       " -0.12165767604446591,\n",
       " -0.3076825270513856,\n",
       " -0.4045632818052062)"
      ]
     },
     "execution_count": 294,
     "metadata": {},
     "output_type": "execute_result"
    }
   ],
   "source": [
    "Test.stable_condition_variable(21.4855,40)"
   ]
  },
  {
   "cell_type": "code",
   "execution_count": 253,
   "id": "efficient-department",
   "metadata": {},
   "outputs": [
    {
     "data": {
      "text/plain": [
       "8"
      ]
     },
     "execution_count": 253,
     "metadata": {},
     "output_type": "execute_result"
    }
   ],
   "source": [
    "-2*1.2*(2/33*(10.6/33)**3+1.5*(self.v0+self.T*v_eq)/s_eq**2)"
   ]
  },
  {
   "cell_type": "code",
   "execution_count": 274,
   "id": "liked-berlin",
   "metadata": {},
   "outputs": [
    {
     "data": {
      "text/latex": [
       "$\\displaystyle -1.81049078969451$"
      ],
      "text/plain": [
       "-1.81049078969451"
      ]
     },
     "execution_count": 274,
     "metadata": {},
     "output_type": "execute_result"
    }
   ],
   "source": [
    "Test.stability_equation(f_ns, f_nv, f_ndv, 0)"
   ]
  },
  {
   "cell_type": "code",
   "execution_count": null,
   "id": "median-button",
   "metadata": {},
   "outputs": [],
   "source": []
  }
 ],
 "metadata": {
  "kernelspec": {
   "display_name": "Python 3",
   "language": "python",
   "name": "python3"
  },
  "language_info": {
   "codemirror_mode": {
    "name": "ipython",
    "version": 3
   },
   "file_extension": ".py",
   "mimetype": "text/x-python",
   "name": "python",
   "nbconvert_exporter": "python",
   "pygments_lexer": "ipython3",
   "version": "3.7.4"
  }
 },
 "nbformat": 4,
 "nbformat_minor": 5
}
