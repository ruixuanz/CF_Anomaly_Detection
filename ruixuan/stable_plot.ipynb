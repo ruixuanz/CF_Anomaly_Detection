{
 "cells": [
  {
   "cell_type": "code",
   "execution_count": 1,
   "id": "loose-flood",
   "metadata": {},
   "outputs": [],
   "source": [
    "import numpy as np\n",
    "import math\n",
    "import matplotlib.pyplot as plt\n",
    "import seaborn as sns\n",
    "from tqdm import tqdm\n",
    "from sympy.solvers import solve\n",
    "from sympy import Symbol"
   ]
  },
  {
   "cell_type": "markdown",
   "id": "massive-course",
   "metadata": {},
   "source": [
    "## Parameter setting"
   ]
  },
  {
   "cell_type": "code",
   "execution_count": 2,
   "id": "pregnant-transcription",
   "metadata": {},
   "outputs": [
    {
     "data": {
      "text/plain": [
       "'\\n    tau_tilde: time delay\\n    lambda_1: the first real coefficient of expansion of lambda\\n    alpha: weight coefficients\\n    f_n^_: partial derivative of f function at the equilibrium point (v_e,s_e,0)\\n    \\n'"
      ]
     },
     "execution_count": 2,
     "metadata": {},
     "output_type": "execute_result"
    }
   ],
   "source": [
    "\"\"\"\n",
    "    tau_tilde: time delay\n",
    "    lambda_1: the first real coefficient of expansion of lambda\n",
    "    alpha: weight coefficients\n",
    "    f_n^_: partial derivative of f function at the equilibrium point (v_e,s_e,0)\n",
    "    \n",
    "\"\"\""
   ]
  },
  {
   "cell_type": "code",
   "execution_count": 12,
   "id": "egyptian-marsh",
   "metadata": {},
   "outputs": [],
   "source": [
    "class CIDM(object):\n",
    "    \n",
    "    \"\"\"\n",
    "        Parameter defined in \"Modeling and analyzing cyberattack \n",
    "        effects on connected automated vehicular platoons\"\n",
    "            \n",
    "    \"\"\"\n",
    "    \n",
    "    def __init__(self, N=15, ego_loc=6, M = 4):\n",
    "        self.v0 = 24\n",
    "        self.l = 0\n",
    "        self.T = 1\n",
    "        self.s0 = 2\n",
    "        self.a = 0.73\n",
    "        self.b = 1.67\n",
    "        self.N = N\n",
    "        self.M = M\n",
    "        self.v = Symbol('v')\n",
    "        self.R = 150\n",
    "        self.N = N\n",
    "        self.ego_loc = ego_loc\n",
    "        self.Alpha = None\n",
    "\n",
    "    def alpha_generation(self):\n",
    "        \n",
    "        Alpha = {}\n",
    "\n",
    "        Alpha[1] = np.zeros(self.N)\n",
    "        Alpha[1][self.ego_loc-6:self.ego_loc-1] = [0,0,0,0,1]\n",
    "        Alpha[2] = np.zeros(self.N)\n",
    "        Alpha[2][self.ego_loc-6:self.ego_loc-1] = [0,0,0,0.2,0.8]\n",
    "        Alpha[3] = np.zeros(self.N)\n",
    "        Alpha[3][self.ego_loc-6:self.ego_loc-1] = [0,0,0.1,0.2,0.7]\n",
    "        Alpha[4] = np.zeros(self.N)\n",
    "        Alpha[4][self.ego_loc-6:self.ego_loc-1] = [0,0.05,0.1,0.15,0.7]\n",
    "        Alpha[5] = np.zeros(self.N)\n",
    "        Alpha[5][self.ego_loc-6:self.ego_loc-1] = [0.004,0.016,0.08,0.2,0.7]\n",
    "        \n",
    "        self.Alpha = Alpha\n",
    "    \n",
    "    \n",
    "    def equilibrium_state_generation(self, profile_type, profile):\n",
    "        \n",
    "        result = []\n",
    "        if profile_type == 'velocity':\n",
    "            for data in profile:\n",
    "                result.append(self.equilibrium_headway(data))\n",
    "                \n",
    "        else:\n",
    "            for data in profile:\n",
    "                result.append(self.equilibrium_velocity(data))\n",
    "                \n",
    "        return result\n",
    "                \n",
    "              \n",
    "    \"\"\"\n",
    "    Given the v*, calculate the s*\n",
    "\n",
    "    \"\"\"\n",
    "\n",
    "    def equilibrium_headway(self, v_eq):\n",
    "\n",
    "        s_eq = (self.s0+self.T*v_eq)*(1-(v_eq/self.v0)**4)**(-1/2)\n",
    "        \n",
    "        return s_eq\n",
    "    \n",
    "    \"\"\"\n",
    "    Given the s*, calculate the v*\n",
    "\n",
    "    \"\"\"\n",
    "\n",
    "    def equilibrium_velocity(self, s_eq):\n",
    "\n",
    "        v_eq = solve((self.s0+self.T*self.v)*(1-(self.v/self.v0)**4)**(-0.5)-s_eq, self.v)[0]\n",
    "        \n",
    "        return v_eq\n",
    "    \n",
    "     \n",
    "    \"\"\"\n",
    "    Given the steady state, calculate the variables\n",
    "\n",
    "    \"\"\"\n",
    "\n",
    "    def stable_condition_variable(self, v_eq, s_eq):\n",
    "        \n",
    "        f_ns = 2*self.a/s_eq*((self.s0+self.T*v_eq)/s_eq)**2\n",
    "        f_nv = -2*self.a*(2/self.v0*(v_eq/self.v0)**3+self.T*(self.s0+self.T*v_eq)/s_eq**2)\n",
    "        f_ndv = -v_eq/s_eq*np.sqrt(self.a/self.b)*(self.s0+self.T*v_eq)/s_eq\n",
    "        lambda_1 = f_ns/f_nv\n",
    "        \n",
    "        return f_ns, f_nv, f_ndv, lambda_1\n",
    "    \n",
    "    \n",
    "    \n",
    "    \"\"\"\n",
    "    Calculate the linearly stable condition\n",
    "\n",
    "    \"\"\"\n",
    "\n",
    "    def characteristic_equation(self, f_ns, f_nv, f_ndv, lambda_1, tau_tilde):\n",
    "        \n",
    "        result = -lambda_1**2/f_nv-lambda_1**2*tau_tilde + lambda_1*f_ndv/f_nv+f_ns/f_nv*\\\n",
    "                (self.alpha.dot(self.platoon)+lambda_1*self.alpha.dot(np.ones(self.N)*tau_tilde)-0.5)\n",
    "            \n",
    "        return result \n",
    "    \n",
    "    \n",
    "    def stability_equation(self, f_ns, f_nv, f_ndv, tau_tilde):\n",
    "        \n",
    "        result = (f_nv/f_ns)**2*(1.3-0.5)+f_nv*f_ndv/f_ns**2*\\\n",
    "                 1.3-1/f_ns+f_nv/f_ns*tau_tilde\n",
    "        \n",
    "        return result\n",
    "    \n",
    "    \n",
    "    def degenerated_stability_equation(self, f_ns, f_nv, f_ndv):\n",
    "        \n",
    "        result = -f_ns/f_nv+f_ndv+0.5*f_nv\n",
    "        \n",
    "        return result\n",
    "    \n",
    "    \n",
    "    \n",
    "    def self_calculated_equation(self, f_ns, f_nv, f_ndv, lambda_1, tau_tilde):\n",
    "        \n",
    "        result = -lambda_1**2/f_nv + lambda_1*f_ndv/f_nv + lambda_1*(0.5+lambda_1*tau_tilde + 0.5)\n",
    "        \n",
    "        return result"
   ]
  },
  {
   "cell_type": "code",
   "execution_count": 13,
   "id": "broadband-tablet",
   "metadata": {},
   "outputs": [],
   "source": [
    "\"\"\"\n",
    "    Given the different number of cooperative cars, the alpha vector changes accordingly.\n",
    "    The attack is applied to the 5th car. The ego vehicle can take the last vehicle to the 6th vehicle\n",
    "    For simplicity, we pick the 10th vehicle as the ego vehicle\n",
    "\n",
    "\"\"\"\n",
    "\n",
    "\n",
    "Test = CIDM()\n",
    "Test.alpha_generation()\n",
    "# steady_velocity = Test.equilibrium_state_generation('headway', np.linspace(Test.s0,60,201))"
   ]
  },
  {
   "cell_type": "code",
   "execution_count": 20,
   "id": "7014d7ef",
   "metadata": {},
   "outputs": [
    {
     "data": {
      "text/plain": [
       "[7.93992455108470]"
      ]
     },
     "execution_count": 20,
     "metadata": {},
     "output_type": "execute_result"
    }
   ],
   "source": [
    "Test.equilibrium_state_generation('headway', [10])"
   ]
  },
  {
   "cell_type": "code",
   "execution_count": 14,
   "id": "returning-vienna",
   "metadata": {},
   "outputs": [
    {
     "name": "stderr",
     "output_type": "stream",
     "text": [
      "201it [00:23,  8.52it/s]\n"
     ]
    }
   ],
   "source": [
    "\"\"\"\n",
    "    The equilibrium velocity varies from 10m/s to 45m/s\n",
    "    Time delay varies from 0s to 3s\n",
    "\n",
    "\"\"\"\n",
    "\n",
    "headway = np.linspace(Test.s0,60,201)\n",
    "y_tau = np.linspace(0,3,201)\n",
    "result = np.zeros([201,201])\n",
    "\n",
    "for idx_x, data in tqdm(enumerate(headway)):\n",
    "    for idx_y, tau in enumerate(y_tau):\n",
    "        f_ns, f_nv, f_ndv, lambda_1 = Test.stable_condition_variable(steady_velocity[idx_x], data)\n",
    "        result[idx_x,idx_y] = Test.self_calculated_equation(f_ns, f_nv, f_ndv, lambda_1, tau)      "
   ]
  },
  {
   "cell_type": "code",
   "execution_count": 15,
   "id": "bound-exhaust",
   "metadata": {},
   "outputs": [
    {
     "data": {
      "text/plain": [
       "Text(84.5, 0.5, 'Headway /m')"
      ]
     },
     "execution_count": 15,
     "metadata": {},
     "output_type": "execute_result"
    },
    {
     "data": {
      "image/png": "[encoded data removed]",
      "text/plain": [
       "<Figure size 864x576 with 2 Axes>"
      ]
     },
     "metadata": {},
     "output_type": "display_data"
    }
   ],
   "source": [
    "sns.set(rc = {'figure.figsize':(12,8)})\n",
    "sns.heatmap(np.flip(result,axis=0)<=0)\n",
    "plt.xticks([0, 34, 67, 101, 134,168,201], [0,0.5,1,1.5,2,2.5,3],rotation = 0,fontsize= 15)\n",
    "plt.yticks([0, 34, 67, 101, 134,168,201], [60,50,40,30,20,10,0],rotation = 0,fontsize= 15)\n",
    "plt.xlabel(\"Time delay /s\", fontsize=15)\n",
    "plt.ylabel(\"Headway /m\", fontsize=15)"
   ]
  },
  {
   "cell_type": "code",
   "execution_count": null,
   "id": "median-button",
   "metadata": {},
   "outputs": [],
   "source": []
  }
 ],
 "metadata": {
  "kernelspec": {
   "display_name": "Python 3 (ipykernel)",
   "language": "python",
   "name": "python3"
  },
  "language_info": {
   "codemirror_mode": {
    "name": "ipython",
    "version": 3
   },
   "file_extension": ".py",
   "mimetype": "text/x-python",
   "name": "python",
   "nbconvert_exporter": "python",
   "pygments_lexer": "ipython3",
   "version": "3.9.7"
  }
 },
 "nbformat": 4,
 "nbformat_minor": 5
}
