{
 "cells": [
  {
   "cell_type": "code",
   "execution_count": 12,
   "id": "loose-flood",
   "metadata": {},
   "outputs": [],
   "source": [
    "import numpy as np\n",
    "import math\n",
    "import matplotlib.pyplot as plt\n",
    "import seaborn as sns\n",
    "from tqdm import tqdm\n",
    "from sympy.solvers import solve\n",
    "from sympy import Symbol"
   ]
  },
  {
   "cell_type": "markdown",
   "id": "massive-course",
   "metadata": {},
   "source": [
    "## Parameter setting"
   ]
  },
  {
   "cell_type": "code",
   "execution_count": 23,
   "id": "pregnant-transcription",
   "metadata": {},
   "outputs": [
    {
     "data": {
      "text/plain": [
       "'\\n    tau_tilde: time delay\\n    lambda_1: the first real coefficient of expansion of lambda\\n    alpha: weight coefficients\\n    f_n^_: partial derivative of f function at the equilibrium point (v_e,s_e,0)\\n    \\n'"
      ]
     },
     "execution_count": 23,
     "metadata": {},
     "output_type": "execute_result"
    }
   ],
   "source": [
    "\"\"\"\n",
    "    tau_tilde: time delay\n",
    "    lambda_1: the first real coefficient of expansion of lambda\n",
    "    alpha: weight coefficients\n",
    "    f_n^_: partial derivative of f function at the equilibrium point (v_e,s_e,0)\n",
    "    \n",
    "\"\"\""
   ]
  },
  {
   "cell_type": "code",
   "execution_count": 26,
   "id": "egyptian-marsh",
   "metadata": {},
   "outputs": [],
   "source": [
    "class CIDM(object):\n",
    "    \n",
    "    \"\"\"\n",
    "        Parameter defined in \"Modeling and analyzing cyberattack \n",
    "        effects on connected automated vehicular platoons\"\n",
    "            \n",
    "    \"\"\"\n",
    "    \n",
    "    def __init__(self, N=15, ego_loc=6, M = 1):\n",
    "        self.v_0 = 33.33\n",
    "        self.l = 5\n",
    "        self.T = 1.1\n",
    "        self.s_0 = 2\n",
    "        self.a = 1\n",
    "        self.b = 2\n",
    "        self.v = Symbol('v')\n",
    "        self.R = 150\n",
    "        self.N = N\n",
    "        self.ego_loc = ego_loc\n",
    "        self.alpha = [0.7,0.2,0.1]\n",
    "        self.beta = [0.7,0.2,0.1] \n",
    "    \n",
    "    def equilibrium_state_generation(self, profile_type, profile):\n",
    "        \n",
    "        result = []\n",
    "        if profile_type == 'velocity':\n",
    "            for data in tqdm(profile):\n",
    "                result.append(self.equilibrium_headway(data))\n",
    "                \n",
    "        else:\n",
    "            for data in profile:\n",
    "                result.append(self.equilibrium_velocity(data))\n",
    "                \n",
    "        return result\n",
    "                \n",
    "              \n",
    "    \"\"\"\n",
    "    Given the v*, calculate the s*\n",
    "\n",
    "    \"\"\"\n",
    "\n",
    "    def equilibrium_headway(self, v_eq):\n",
    "\n",
    "        s_eq = (self.s_0+self.T*v_eq)*(1-(v_eq/self.v_0)**4)**(-1/2)\n",
    "        \n",
    "        return s_eq\n",
    "    \n",
    "    \"\"\"\n",
    "    Given the s*, calculate the v*\n",
    "\n",
    "    \"\"\"\n",
    "\n",
    "    def equilibrium_velocity(self, s_eq):\n",
    "\n",
    "        v_eq = solve((self.s_0+self.T*self.v)*(1-(self.v/self.v_0)**4)**(-0.5)-s_eq, self.v)[0]\n",
    "        \n",
    "        return v_eq\n",
    "    \n",
    "     \n",
    "    \"\"\"\n",
    "    Given the steady state, calculate the variables\n",
    "\n",
    "    \"\"\"\n",
    "\n",
    "    def stable_condition_variable(self, v_eq, s_eq, A, B, C):\n",
    "\n",
    "        term = C/(2*np.sqrt(self.a*self.b))\n",
    "\n",
    "        f_nv = -4*self.a*(v_eq+A)**3/self.v_0**4 - 2*self.a*(self.s_0+self.T*(s_eq+A)+term*(v_eq+A))/(v_eq+B)**2*(self.T+term)\n",
    "        f_ns = self.alpha[0]*2*self.a*(self.s_0+self.T*(v_eq+A)+term*(v_eq+A))**2/(s_eq+B)**3\n",
    "        f_ndv = -self.beta[0]*np.sqrt(self.a/self.b)*(v_eq+A)*(self.s_0+self.T*(v_eq+A)+term*(v_eq+A))/(s_eq+B)**2\n",
    "        lambda_1 = f_ns/f_nv\n",
    "\n",
    "        return f_ns, f_nv, f_ndv, lambda_1\n",
    "    \n",
    "    \n",
    "    \n",
    "    \"\"\"\n",
    "    Calculate the linearly stable condition\n",
    "\n",
    "    \"\"\"\n",
    "\n",
    "#     def characteristic_equation(self, f_ns, f_nv, f_ndv, lambda_1, tau_tilde):\n",
    "        \n",
    "#         result = -lambda_1**2/f_nv-lambda_1**2*tau_tilde + lambda_1*f_ndv/f_nv+f_ns/f_nv*\\\n",
    "#                 (1.4+lambda_1*tau_tilde-0.5)\n",
    "            \n",
    "#         return result \n",
    "    \n",
    "    \n",
    "#     def stability_equation(self, f_ns, f_nv, f_ndv, tau_tilde):\n",
    "        \n",
    "#         result = (f_nv/f_ns)**2*(1.4-0.5)+f_nv*f_ndv/f_ns**2*\\\n",
    "#                  1.4-1/f_ns+f_nv/f_ns*tau_tilde\n",
    "        \n",
    "#         return result\n",
    "    \n",
    "    \n",
    "#     def degenerated_stability_equation(self, f_ns, f_nv, f_ndv):\n",
    "        \n",
    "#         result = -f_ns/f_nv+f_ndv+0.5*f_nv\n",
    "        \n",
    "#         return result\n",
    "    \n",
    "    \n",
    "    \n",
    "    def self_calculated_equation(self, f_ns, f_nv, f_ndv, lambda_1, tau_1, tau_2):\n",
    "        \n",
    "        lambda_2 = (-lambda_1**2/f_nv - lambda_1**2*tau_1 + lambda_1**2*f_ndv/f_nv*self.beta[0]*(tau_2-tau_1) + \\\n",
    "                    lambda_1*f_ndv/f_nv + lambda_1*(lambda_1*(self.alpha[0]*tau_1 + tau_2*sum(self.alpha[1:]))+0.9))\n",
    "        \n",
    "        return lambda_2"
   ]
  },
  {
   "cell_type": "code",
   "execution_count": 27,
   "id": "broadband-tablet",
   "metadata": {},
   "outputs": [],
   "source": [
    "\"\"\"\n",
    "    Given the different number of cooperative cars, the alpha vector changes accordingly.\n",
    "    The attack is applied to the 5th car. The ego vehicle can take the last vehicle to the 6th vehicle\n",
    "    For simplicity, we pick the 10th vehicle as the ego vehicle\n",
    "\n",
    "\"\"\"\n",
    "\n",
    "Test = CIDM()\n",
    "# steady_velocity = Test.equilibrium_state_generation('headway', np.linspace(Test.s0,60,201))"
   ]
  },
  {
   "cell_type": "code",
   "execution_count": 28,
   "id": "prescribed-floating",
   "metadata": {},
   "outputs": [
    {
     "data": {
      "text/latex": [
       "$\\displaystyle 22.4731266749452$"
      ],
      "text/plain": [
       "22.4731266749452"
      ]
     },
     "execution_count": 28,
     "metadata": {},
     "output_type": "execute_result"
    }
   ],
   "source": [
    "Test.equilibrium_velocity(30)"
   ]
  },
  {
   "cell_type": "code",
   "execution_count": 114,
   "id": "superior-score",
   "metadata": {},
   "outputs": [
    {
     "data": {
      "text/plain": [
       "0.45259274803724203"
      ]
     },
     "execution_count": 114,
     "metadata": {},
     "output_type": "execute_result"
    }
   ],
   "source": [
    "f_ns, f_nv, f_ndv, lambda_1 = Test.stable_condition_variable(22.47, 30, -10, 25, -10)\n",
    "lambda_2 = Test.self_calculated_equation(f_ns, f_nv, f_ndv, lambda_1, 5, 0.5)\n",
    "lambda_2"
   ]
  },
  {
   "cell_type": "code",
   "execution_count": 111,
   "id": "wanted-bacteria",
   "metadata": {},
   "outputs": [
    {
     "data": {
      "text/plain": [
       "array([[0., 0., 0., ..., 0., 0., 0.],\n",
       "       [0., 0., 0., ..., 0., 0., 0.],\n",
       "       [0., 0., 0., ..., 0., 0., 0.],\n",
       "       ...,\n",
       "       [0., 0., 0., ..., 0., 0., 0.],\n",
       "       [0., 0., 0., ..., 0., 0., 0.],\n",
       "       [0., 0., 0., ..., 0., 0., 0.]])"
      ]
     },
     "execution_count": 111,
     "metadata": {},
     "output_type": "execute_result"
    }
   ],
   "source": [
    "np.zeros([100,100])"
   ]
  },
  {
   "cell_type": "code",
   "execution_count": 115,
   "id": "temporal-pointer",
   "metadata": {},
   "outputs": [
    {
     "data": {
      "image/png": "[encoded data removed]",
      "text/plain": [
       "<Figure size 432x288 with 2 Axes>"
      ]
     },
     "metadata": {
      "needs_background": "light"
     },
     "output_type": "display_data"
    }
   ],
   "source": [
    "rr = np.zeros([100,100])\n",
    "for idx_1, tt_1 in enumerate(np.arange(0, 10, 0.1)):\n",
    "    for idx_2, tt_2 in enumerate(np.arange(0, 10, 0.1)):\n",
    "        aaa = Test.self_calculated_equation(f_ns, f_nv, f_ndv, lambda_1, tt_1, tt_2)\n",
    "        \n",
    "        rr[idx_1, idx_2] = aaa\n",
    "    \n",
    "sns.heatmap(rr)\n",
    "plt.savefig('noise_test.png')"
   ]
  },
  {
   "cell_type": "code",
   "execution_count": 82,
   "id": "meaning-japanese",
   "metadata": {},
   "outputs": [
    {
     "data": {
      "text/plain": [
       "-0.33016519976644826"
      ]
     },
     "execution_count": 82,
     "metadata": {},
     "output_type": "execute_result"
    }
   ],
   "source": [
    "v_eq = 22.47\n",
    "s_eq = 30\n",
    "term = 0/(2*np.sqrt(Test.a*Test.b))\n",
    "-Test.beta[0]*np.sqrt(Test.a/Test.b)*(v_eq)*(Test.s_0+Test.T*(v_eq)+term*(v_eq))/(s_eq)**2"
   ]
  },
  {
   "cell_type": "code",
   "execution_count": 60,
   "id": "returning-vienna",
   "metadata": {},
   "outputs": [
    {
     "name": "stderr",
     "output_type": "stream",
     "text": [
      "201it [00:35,  5.63it/s]\n"
     ]
    }
   ],
   "source": [
    "\"\"\"\n",
    "    The equilibrium velocity varies from 10m/s to 45m/s\n",
    "    Time delay varies from 0s to 5s\n",
    "\n",
    "\"\"\"\n",
    "\n",
    "headway = np.linspace(Test.s0,60,201)\n",
    "y_tau = np.linspace(0,3,201)\n",
    "result = np.zeros([201,201])\n",
    "\n",
    "for idx_x, data in tqdm(enumerate(headway)):\n",
    "    for idx_y, tau in enumerate(y_tau):\n",
    "        f_ns, f_nv, f_ndv, lambda_1 = Test.stable_condition_variable(steady_velocity[idx_x], data)\n",
    "        result[idx_x,idx_y] = Test.self_calculated_equation(f_ns, f_nv, f_ndv, lambda_1, tau)      "
   ]
  },
  {
   "cell_type": "code",
   "execution_count": null,
   "id": "occupational-agency",
   "metadata": {},
   "outputs": [],
   "source": []
  },
  {
   "cell_type": "code",
   "execution_count": 61,
   "id": "bound-exhaust",
   "metadata": {},
   "outputs": [
    {
     "data": {
      "text/plain": [
       "Text(84.5, 0.5, 'Headway /m')"
      ]
     },
     "execution_count": 61,
     "metadata": {},
     "output_type": "execute_result"
    },
    {
     "data": {
      "image/png": "[encoded data removed]",
      "text/plain": [
       "<Figure size 864x576 with 2 Axes>"
      ]
     },
     "metadata": {},
     "output_type": "display_data"
    }
   ],
   "source": [
    "sns.set(rc = {'figure.figsize':(12,8)})\n",
    "sns.heatmap(np.flip(result,axis=0)<=0)\n",
    "plt.xticks([0, 34, 67, 101, 134,168,201], [0,0.5,1,1.5,2,2.5,3],rotation = 0,fontsize= 15)\n",
    "plt.yticks([0, 34, 67, 101, 134,168,201], [60,50,40,30,20,10,0],rotation = 0,fontsize= 15)\n",
    "plt.grid()\n",
    "plt.xlabel(\"Time delay /s\", fontsize=15)\n",
    "plt.ylabel(\"Headway /m\", fontsize=15)"
   ]
  },
  {
   "cell_type": "code",
   "execution_count": 123,
   "id": "geological-photograph",
   "metadata": {},
   "outputs": [],
   "source": [
    "s_eq = 10\n",
    "# v_eq = solve((Test.s0+Test.T*Test.v)*(1-(Test.v/Test.v0)**4)**(-0.5)-s_eq, Test.v)[0]\n",
    "v_eq = solve((2+1*Test.v)*(1-(Test.v/24)**4)**(-0.5)-s_eq, Test.v)[0]"
   ]
  },
  {
   "cell_type": "code",
   "execution_count": 112,
   "id": "colored-renewal",
   "metadata": {},
   "outputs": [
    {
     "data": {
      "text/latex": [
       "$\\displaystyle 0.494618402910831$"
      ],
      "text/plain": [
       "0.494618402910831"
      ]
     },
     "execution_count": 112,
     "metadata": {},
     "output_type": "execute_result"
    }
   ],
   "source": [
    "f_ns, f_nv, f_ndv, lambda_1 = Test.stable_condition_variable(v_eq, s_eq)\n",
    "rr = Test.stability_equation(f_ns, f_nv, f_ndv, 0.5)   \n",
    "rr"
   ]
  },
  {
   "cell_type": "code",
   "execution_count": 83,
   "id": "right-scholarship",
   "metadata": {},
   "outputs": [
    {
     "data": {
      "text/plain": [
       "24"
      ]
     },
     "execution_count": 83,
     "metadata": {},
     "output_type": "execute_result"
    }
   ],
   "source": [
    "Test.characteristic_equation(f_ns, f_nv, f_ndv, lambda_1, 0.5) "
   ]
  },
  {
   "cell_type": "code",
   "execution_count": 124,
   "id": "earned-birth",
   "metadata": {},
   "outputs": [
    {
     "data": {
      "text/latex": [
       "$\\displaystyle 7.9399245510847$"
      ],
      "text/plain": [
       "7.93992455108470"
      ]
     },
     "execution_count": 124,
     "metadata": {},
     "output_type": "execute_result"
    }
   ],
   "source": [
    "v_eq"
   ]
  },
  {
   "cell_type": "code",
   "execution_count": 450,
   "id": "dominant-encounter",
   "metadata": {},
   "outputs": [
    {
     "name": "stderr",
     "output_type": "stream",
     "text": [
      "201it [00:00, 446.66it/s]\n"
     ]
    }
   ],
   "source": [
    "# headway = np.linspace(Test.s0,150,201)\n",
    "rlt = []\n",
    "\n",
    "for idx, data in tqdm(enumerate(headway)):\n",
    "\n",
    "    f_ns, f_nv, f_ndv, lambda_1 = Test.stable_condition_variable(steady_velocity[idx], data)\n",
    "    rlt.append(Test.self_calculated_equation(f_ns, f_nv, f_ndv, lambda_1, 0))"
   ]
  },
  {
   "cell_type": "code",
   "execution_count": 451,
   "id": "random-brazil",
   "metadata": {},
   "outputs": [
    {
     "data": {
      "text/plain": [
       "[<matplotlib.lines.Line2D at 0x1e6f12dc848>]"
      ]
     },
     "execution_count": 451,
     "metadata": {},
     "output_type": "execute_result"
    },
    {
     "data": {
      "image/png": "[encoded data removed]",
      "text/plain": [
       "<Figure size 864x576 with 1 Axes>"
      ]
     },
     "metadata": {},
     "output_type": "display_data"
    }
   ],
   "source": [
    "plt.plot(headway, rlt)"
   ]
  },
  {
   "cell_type": "code",
   "execution_count": 414,
   "id": "silver-consistency",
   "metadata": {},
   "outputs": [
    {
     "data": {
      "text/plain": [
       "[<matplotlib.lines.Line2D at 0x1e6ecd1af88>]"
      ]
     },
     "execution_count": 414,
     "metadata": {},
     "output_type": "execute_result"
    },
    {
     "data": {
      "image/png": "[encoded data removed]",
      "text/plain": [
       "<Figure size 432x288 with 1 Axes>"
      ]
     },
     "metadata": {
      "needs_background": "light"
     },
     "output_type": "display_data"
    }
   ],
   "source": [
    "plt.plot(headway, result[:,0])"
   ]
  },
  {
   "cell_type": "code",
   "execution_count": 402,
   "id": "interstate-pregnancy",
   "metadata": {},
   "outputs": [
    {
     "data": {
      "text/plain": [
       "array([[-4.98928852e+01, -4.98928852e+01, -4.98928852e+01, ...,\n",
       "        -4.98928852e+01, -4.98928852e+01, -4.98928852e+01],\n",
       "       [-4.09301546e+01, -4.09301546e+01, -4.09301546e+01, ...,\n",
       "        -4.09301546e+01, -4.09301546e+01, -4.09301546e+01],\n",
       "       [-3.43471904e+01, -3.43471904e+01, -3.43471904e+01, ...,\n",
       "        -3.43471904e+01, -3.43471904e+01, -3.43471904e+01],\n",
       "       ...,\n",
       "       [-1.73994879e-02, -1.73994879e-02, -1.73994879e-02, ...,\n",
       "        -1.73994879e-02, -1.73994879e-02, -1.73994879e-02],\n",
       "       [-1.71311399e-02, -1.71311399e-02, -1.71311399e-02, ...,\n",
       "        -1.71311399e-02, -1.71311399e-02, -1.71311399e-02],\n",
       "       [-1.68682166e-02, -1.68682166e-02, -1.68682166e-02, ...,\n",
       "        -1.68682166e-02, -1.68682166e-02, -1.68682166e-02]])"
      ]
     },
     "execution_count": 402,
     "metadata": {},
     "output_type": "execute_result"
    }
   ],
   "source": [
    "result"
   ]
  },
  {
   "cell_type": "code",
   "execution_count": 289,
   "id": "recognized-liver",
   "metadata": {},
   "outputs": [
    {
     "data": {
      "text/plain": [
       "(0.0, 12.6696809268637)"
      ]
     },
     "execution_count": 289,
     "metadata": {},
     "output_type": "execute_result"
    },
    {
     "data": {
      "image/png": "[encoded data removed]",
      "text/plain": [
       "<Figure size 432x288 with 1 Axes>"
      ]
     },
     "metadata": {
      "needs_background": "light"
     },
     "output_type": "display_data"
    }
   ],
   "source": [
    "plt.plot(headway,[-i for i in rlt])\n",
    "\n",
    "plt.ylim(ymin = 0)"
   ]
  },
  {
   "cell_type": "code",
   "execution_count": 259,
   "id": "floating-composition",
   "metadata": {},
   "outputs": [
    {
     "name": "stderr",
     "output_type": "stream",
     "text": [
      "100%|██████████████████████████████████████████████████████████████████████████| 101/101 [01:16<00:00,  1.32it/s]\n"
     ]
    }
   ],
   "source": [
    "headway = np.linspace(4,80,101)\n",
    "rlt = []\n",
    "\n",
    "for data in tqdm(headway):\n",
    "    \n",
    "    veq = Test.equilibrium_velocity(data)\n",
    "    f_ns, f_nv, f_ndv, lambda_1 = Test.stable_condition_variable(veq, data)\n",
    "    rlt.append(Test.degenerated_stability_equation(f_ns, f_nv, f_ndv))"
   ]
  },
  {
   "cell_type": "code",
   "execution_count": 260,
   "id": "vocal-stress",
   "metadata": {},
   "outputs": [
    {
     "data": {
      "text/plain": [
       "[<matplotlib.lines.Line2D at 0x1e6e87dc408>]"
      ]
     },
     "execution_count": 260,
     "metadata": {},
     "output_type": "execute_result"
    },
    {
     "data": {
      "image/png": "[encoded data removed]",
      "text/plain": [
       "<Figure size 432x288 with 1 Axes>"
      ]
     },
     "metadata": {
      "needs_background": "light"
     },
     "output_type": "display_data"
    }
   ],
   "source": [
    "plt.plot(headway,rlt)"
   ]
  },
  {
   "cell_type": "code",
   "execution_count": null,
   "id": "median-button",
   "metadata": {},
   "outputs": [],
   "source": [
    "def stable_condition_variable(self, v_eq, s_eq, A, B, C):\n",
    "    \n",
    "    term = C/(2*np.sqrt(self.a*self.b))\n",
    "    \n",
    "    f_nv = -4*self.a*(v_eq+A)**3/v_0**4 - 2*self.a*(s_0+self.T*(s_eq+A)+term*(v_eq+A))/(v_eq+B)**2*(self.T+term)\n",
    "    f_ns = self.alpha[0]*2*self.a*(s_0+self.T*(v_eq+A)+term*(v_eq+A))**2/(s_eq+B)**3\n",
    "    f_ndv = -self.beta[0]*np.sqrt(self.a/self.b)*(v_eq+A)*(s_0+self.T*(v_eq+A)+term*(v_eq+A))/(s_eq+B)**2\n",
    "    lambda_1 = f_ns/f_nv\n",
    "\n",
    "    return f_ns, f_nv, f_ndv, lambda_1"
   ]
  },
  {
   "cell_type": "code",
   "execution_count": null,
   "id": "funded-halloween",
   "metadata": {},
   "outputs": [],
   "source": [
    "f_nv = -4*self.a*(v_eq+A)**3/v_0**4 - 2*self.a*(s_0+self.T*(s_eq+A)+term*(v_eq+A))/(v_eq+B)**2*(self.T+term)\n",
    "f_ns = alpha[0]*2*self.a*(s_0+self.T*(v_eq+A)+term*(v_eq+A))**2/(s_eq+B)**3\n",
    "f_ndv = -beta[0]*np.sqrt(self.a/self.b)*(v_eq+A)*(s_0+self.T*(v_eq+A)+term*(v_eq+A))/(s_eq+B)**2"
   ]
  }
 ],
 "metadata": {
  "kernelspec": {
   "display_name": "Python 3",
   "language": "python",
   "name": "python3"
  },
  "language_info": {
   "codemirror_mode": {
    "name": "ipython",
    "version": 3
   },
   "file_extension": ".py",
   "mimetype": "text/x-python",
   "name": "python",
   "nbconvert_exporter": "python",
   "pygments_lexer": "ipython3",
   "version": "3.7.4"
  }
 },
 "nbformat": 4,
 "nbformat_minor": 5
}
